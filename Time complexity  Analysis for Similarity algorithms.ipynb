{
 "cells": [
  {
   "cell_type": "markdown",
   "id": "fb18b5cc",
   "metadata": {},
   "source": [
    "# Report on time complexity for Similarities\n"
   ]
  },
  {
   "cell_type": "markdown",
   "id": "c07c19c3",
   "metadata": {
    "id": "c07c19c3",
    "papermill": {
     "duration": 0.081166,
     "end_time": "2022-01-14T04:05:29.618203",
     "exception": false,
     "start_time": "2022-01-14T04:05:29.537037",
     "status": "completed"
    },
    "tags": []
   },
   "source": [
    "## Introduction\n",
    "\n",
    "In this report on similarities, i will be discussing about the run time complexities for jaccard's similarity and cosine similarity. This will be done theoretically and emperically.\n",
    "\n",
    "I will also be discussing the other forms of implementation of cosine similarity measures like vector representation (Dense representation) and sparse representation using python dictionaries. I will be comparing the two methods of computation to see which is more efficent in terms of time complexities.\n",
    "\n",
    "After that, I will be comparing the all pair similarity measurements and its time complexity with jaccard's and cosine implementation along with the other observations. I will also be discussing the reason why the emperical findings differ from the theoretical predictions.\n",
    "\n",
    "I will be using the Map reduce paradigm to implement parallel processing for the calculation of the all pair similarity.\n",
    "\n",
    "The report would be having a conclusion at the end to provide the summary of my findings."
   ]
  },
  {
   "cell_type": "code",
   "execution_count": 2,
   "id": "2614b572",
   "metadata": {
    "ExecuteTime": {
     "end_time": "2023-06-13T15:28:07.021485Z",
     "start_time": "2023-06-13T15:28:07.005077Z"
    }
   },
   "outputs": [],
   "source": [
    "# The report contains 2002 words."
   ]
  },
  {
   "cell_type": "code",
   "execution_count": 1,
   "id": "06069b49",
   "metadata": {
    "colab": {
     "base_uri": "https://localhost:8080/"
    },
    "execution": {
     "iopub.execute_input": "2022-01-14T04:05:29.785453Z",
     "iopub.status.busy": "2022-01-14T04:05:29.784694Z",
     "iopub.status.idle": "2022-01-14T04:05:32.018763Z",
     "shell.execute_reply": "2022-01-14T04:05:32.017999Z",
     "shell.execute_reply.started": "2021-12-13T17:00:49.104052Z"
    },
    "id": "06069b49",
    "outputId": "fe41802f-4eaf-48cf-c7ba-8eccc63e81cc",
    "papermill": {
     "duration": 2.323745,
     "end_time": "2022-01-14T04:05:32.018959",
     "exception": false,
     "start_time": "2022-01-14T04:05:29.695214",
     "status": "completed"
    },
    "tags": []
   },
   "outputs": [
    {
     "name": "stderr",
     "output_type": "stream",
     "text": [
      "[nltk_data] Downloading package punkt to\n",
      "[nltk_data]     C:\\Users\\HP\\AppData\\Roaming\\nltk_data...\n",
      "[nltk_data]   Package punkt is already up-to-date!\n",
      "[nltk_data] Downloading package reuters to\n",
      "[nltk_data]     C:\\Users\\HP\\AppData\\Roaming\\nltk_data...\n",
      "[nltk_data]   Package reuters is already up-to-date!\n"
     ]
    }
   ],
   "source": [
    "# imports all the necessary python modules\n",
    "import nltk\n",
    "nltk.download('punkt')\n",
    "from nltk.tokenize import word_tokenize \n",
    "nltk.download('reuters')\n",
    "from nltk.corpus import reuters\n",
    "import random\n",
    "import re\n",
    "import time\n",
    "import matplotlib.pyplot as plt\n",
    "import scipy.stats as stats\n",
    "import numpy as np\n",
    "import math\n",
    "import pandas as pd\n",
    "from collections import defaultdict\n",
    "from multiprocessing import Pool"
   ]
  },
  {
   "cell_type": "markdown",
   "id": "9c9ac807",
   "metadata": {},
   "source": [
    "I have selected Reuters corpus dataset from NLTK  for my analysis on similarity measures."
   ]
  },
  {
   "cell_type": "code",
   "execution_count": 2,
   "id": "4bc9c1b6",
   "metadata": {
    "execution": {
     "iopub.execute_input": "2022-01-14T04:05:32.183678Z",
     "iopub.status.busy": "2022-01-14T04:05:32.182905Z",
     "iopub.status.idle": "2022-01-14T04:05:35.856381Z",
     "shell.execute_reply": "2022-01-14T04:05:35.855709Z",
     "shell.execute_reply.started": "2021-12-13T17:00:51.25553Z"
    },
    "id": "4bc9c1b6",
    "papermill": {
     "duration": 3.759579,
     "end_time": "2022-01-14T04:05:35.856543",
     "exception": false,
     "start_time": "2022-01-14T04:05:32.096964",
     "status": "completed"
    },
    "tags": []
   },
   "outputs": [],
   "source": [
    "list_of_words = [j for i in reuters.sents() for j in i]"
   ]
  },
  {
   "cell_type": "code",
   "execution_count": 3,
   "id": "3639ba26",
   "metadata": {
    "colab": {
     "base_uri": "https://localhost:8080/"
    },
    "execution": {
     "iopub.execute_input": "2022-01-14T04:05:36.188377Z",
     "iopub.status.busy": "2022-01-14T04:05:36.187422Z",
     "iopub.status.idle": "2022-01-14T04:05:38.119308Z",
     "shell.execute_reply": "2022-01-14T04:05:38.118628Z",
     "shell.execute_reply.started": "2021-12-13T17:00:53.892796Z"
    },
    "id": "3639ba26",
    "outputId": "0fcc3310-dc05-4e5a-b22a-09ccb4c79bba",
    "papermill": {
     "duration": 2.019256,
     "end_time": "2022-01-14T04:05:38.119523",
     "exception": false,
     "start_time": "2022-01-14T04:05:36.100267",
     "status": "completed"
    },
    "tags": []
   },
   "outputs": [
    {
     "name": "stderr",
     "output_type": "stream",
     "text": [
      "[nltk_data] Downloading package stopwords to\n",
      "[nltk_data]     C:\\Users\\HP\\AppData\\Roaming\\nltk_data...\n",
      "[nltk_data]   Package stopwords is already up-to-date!\n"
     ]
    },
    {
     "data": {
      "text/plain": [
       "871516"
      ]
     },
     "execution_count": 3,
     "metadata": {},
     "output_type": "execute_result"
    }
   ],
   "source": [
    "nltk.download('stopwords')\n",
    "from nltk.corpus import stopwords\n",
    "st = stopwords.words('english')\n",
    "list_of_words1= [i.lower() for i in list_of_words if i.isalpha()== True]\n",
    "new_list_of_words = [i for i in list_of_words1 if i not in st]\n",
    "\n",
    "len(new_list_of_words)\n"
   ]
  },
  {
   "cell_type": "code",
   "execution_count": 4,
   "id": "8524bb72",
   "metadata": {
    "colab": {
     "base_uri": "https://localhost:8080/"
    },
    "execution": {
     "iopub.execute_input": "2022-01-14T04:05:38.291271Z",
     "iopub.status.busy": "2022-01-14T04:05:38.286010Z",
     "iopub.status.idle": "2022-01-14T04:05:38.512411Z",
     "shell.execute_reply": "2022-01-14T04:05:38.513309Z",
     "shell.execute_reply.started": "2021-12-13T17:21:15.997603Z"
    },
    "id": "8524bb72",
    "outputId": "b9eeb4a9-4c66-496d-edbf-cf1869907297",
    "papermill": {
     "duration": 0.312706,
     "end_time": "2022-01-14T04:05:38.513648",
     "exception": false,
     "start_time": "2022-01-14T04:05:38.200942",
     "status": "completed"
    },
    "tags": []
   },
   "outputs": [
    {
     "name": "stdout",
     "output_type": "stream",
     "text": [
      "29027\n"
     ]
    }
   ],
   "source": [
    "dict_ = {}\n",
    "for i in new_list_of_words:\n",
    "    dict_[i] = dict_.get(i,0)+1      #Creating a dictionary from the new list of words.\n",
    "dict_key_list = list(dict_.keys())\n",
    "#print(dict_)\n",
    "print(len(dict_))"
   ]
  },
  {
   "cell_type": "code",
   "execution_count": 5,
   "id": "3473f0eb",
   "metadata": {
    "execution": {
     "iopub.execute_input": "2022-01-14T04:05:38.680403Z",
     "iopub.status.busy": "2022-01-14T04:05:38.679683Z",
     "iopub.status.idle": "2022-01-14T04:05:38.682228Z",
     "shell.execute_reply": "2022-01-14T04:05:38.681724Z",
     "shell.execute_reply.started": "2021-12-13T17:00:55.74581Z"
    },
    "id": "3473f0eb",
    "papermill": {
     "duration": 0.090001,
     "end_time": "2022-01-14T04:05:38.682389",
     "exception": false,
     "start_time": "2022-01-14T04:05:38.592388",
     "status": "completed"
    },
    "tags": []
   },
   "outputs": [],
   "source": [
    "def doc_creation(doc_key_len,number_of_doc = 2):  #This function is used to create the documents from the dataset.\n",
    "    list_doc = []\n",
    "\n",
    "    for i in range(number_of_doc):\n",
    "        rand_list_numbersi = random.sample(list(range(len(dict_key_list))), doc_key_len)  \n",
    "        doc_i = {dict_key_list[j]:dict_[dict_key_list[j]] for j in rand_list_numbersi}\n",
    "        list_doc.append(doc_i)\n",
    "\n",
    "    return list_doc"
   ]
  },
  {
   "cell_type": "code",
   "execution_count": 6,
   "id": "400ecf0a",
   "metadata": {
    "colab": {
     "base_uri": "https://localhost:8080/"
    },
    "execution": {
     "iopub.execute_input": "2022-01-14T04:05:38.841825Z",
     "iopub.status.busy": "2022-01-14T04:05:38.841084Z",
     "iopub.status.idle": "2022-01-14T04:05:38.844421Z",
     "shell.execute_reply": "2022-01-14T04:05:38.843910Z",
     "shell.execute_reply.started": "2021-12-13T17:00:55.755212Z"
    },
    "id": "400ecf0a",
    "outputId": "f6488c4d-6887-4ca8-a5c6-c56806b96531",
    "papermill": {
     "duration": 0.086999,
     "end_time": "2022-01-14T04:05:38.844590",
     "exception": false,
     "start_time": "2022-01-14T04:05:38.757591",
     "status": "completed"
    },
    "tags": []
   },
   "outputs": [
    {
     "data": {
      "text/plain": [
       "{'preferences': 7, 'recuperation': 2, 'um': 2, 'cardinal': 6, 'anbaa': 1}"
      ]
     },
     "execution_count": 6,
     "metadata": {},
     "output_type": "execute_result"
    }
   ],
   "source": [
    "doc_creation(5)[0]"
   ]
  },
  {
   "cell_type": "code",
   "execution_count": 7,
   "id": "20239fca",
   "metadata": {
    "execution": {
     "iopub.execute_input": "2022-01-14T04:05:39.003381Z",
     "iopub.status.busy": "2022-01-14T04:05:39.002267Z",
     "iopub.status.idle": "2022-01-14T04:05:39.004216Z",
     "shell.execute_reply": "2022-01-14T04:05:39.004851Z",
     "shell.execute_reply.started": "2021-12-13T17:00:55.771921Z"
    },
    "id": "20239fca",
    "papermill": {
     "duration": 0.085303,
     "end_time": "2022-01-14T04:05:39.005035",
     "exception": false,
     "start_time": "2022-01-14T04:05:38.919732",
     "status": "completed"
    },
    "tags": []
   },
   "outputs": [],
   "source": [
    "# This function creates list of pair of documents where each pair has a certain size. The starting pair has a size of 500 and the final pair will have a size of 'doc_len'\n",
    "def doc_set_collection(doc_len):\n",
    "    \n",
    "    list_pair_doc = []\n",
    "    for i in range(500,doc_len):\n",
    "        list_pair_doc.append(doc_creation(i,2))\n",
    "    \n",
    "    return list_pair_doc"
   ]
  },
  {
   "cell_type": "code",
   "execution_count": 8,
   "id": "9d3cc54b",
   "metadata": {
    "execution": {
     "iopub.execute_input": "2022-01-14T04:05:39.170929Z",
     "iopub.status.busy": "2022-01-14T04:05:39.165658Z",
     "iopub.status.idle": "2022-01-14T04:05:41.222049Z",
     "shell.execute_reply": "2022-01-14T04:05:41.221296Z",
     "shell.execute_reply.started": "2021-12-13T17:00:55.807845Z"
    },
    "id": "9d3cc54b",
    "papermill": {
     "duration": 2.14012,
     "end_time": "2022-01-14T04:05:41.222204",
     "exception": false,
     "start_time": "2022-01-14T04:05:39.082084",
     "status": "completed"
    },
    "tags": []
   },
   "outputs": [],
   "source": [
    "doc_pair_list = doc_set_collection(900)\n",
    "list_of_documents = [j for i in doc_pair_list for j in i]"
   ]
  },
  {
   "cell_type": "markdown",
   "id": "845a73b5",
   "metadata": {},
   "source": [
    "## Q1) Jaccard's Similarity algorithm"
   ]
  },
  {
   "cell_type": "markdown",
   "id": "381160ed",
   "metadata": {
    "id": "381160ed",
    "papermill": {
     "duration": 0.074738,
     "end_time": "2022-01-14T04:05:41.373491",
     "exception": false,
     "start_time": "2022-01-14T04:05:41.298753",
     "status": "completed"
    },
    "tags": []
   },
   "source": [
    "1) Jaccards's similarity is one of the mathematical concepts which is used to find out the similarity between two sets or bag of words by taking the ratio of common elements in the set(   i\n",
    "n\n",
    "t\n",
    "e\n",
    "r\n",
    "s\n",
    "e\n",
    "c\n",
    "t\n",
    "i\n",
    "o\n",
    "n\n",
    "  ) to the total number of elements in the sets (u\n",
    "n\n",
    "i\n",
    "o\n",
    "n\n",
    "  ).\n",
    "  \n",
    "2) J\n",
    "(\n",
    "A\n",
    ",\n",
    "B\n",
    ")\n",
    "=\n",
    "∣\n",
    "A\n",
    "∩\n",
    "B\n",
    "∣\n",
    "∣\n",
    "A\n",
    "∪\n",
    "B\n",
    "∣\n"
   ]
  },
  {
   "cell_type": "markdown",
   "id": "b1565bc0",
   "metadata": {},
   "source": [
    "## Q 1.1) Theoretical worst case running time of Jaccard's similarity\n",
    "When we are running the jaccard's similarity we will have to find the union of the set and the intersection of the set. When we are finding the union of the set we have to iterate through each item in the dictionary, therefore, the worst case running time for finding the union is  \n",
    "O\n",
    "(\n",
    "n\n",
    ")\n",
    " . Now when we are finding the intersection of the two sets, we have to loop through through each item of one of the dictionary to find if there is same key in the other dictionary which has a complexity of  O\n",
    "(\n",
    "n\n",
    ")\n",
    "\n",
    " . But, when the document size will increase, there are significant hash collisions, then the worst case time complexity will be  \n",
    "⟶\n",
    "O\n",
    "(\n",
    "n\n",
    "2\n",
    ")\n",
    " ."
   ]
  },
  {
   "cell_type": "code",
   "execution_count": 9,
   "id": "dc2853ec",
   "metadata": {
    "execution": {
     "iopub.execute_input": "2022-01-14T04:05:41.535115Z",
     "iopub.status.busy": "2022-01-14T04:05:41.534402Z",
     "iopub.status.idle": "2022-01-14T04:05:41.537485Z",
     "shell.execute_reply": "2022-01-14T04:05:41.536795Z",
     "shell.execute_reply.started": "2021-12-13T17:00:57.330833Z"
    },
    "id": "dc2853ec",
    "papermill": {
     "duration": 0.088413,
     "end_time": "2022-01-14T04:05:41.537657",
     "exception": false,
     "start_time": "2022-01-14T04:05:41.449244",
     "status": "completed"
    },
    "tags": []
   },
   "outputs": [],
   "source": [
    "#Loops through each item in the dictionary to find the total number of words in the bag\n",
    "def totalfreq(dict1):\n",
    "    total = 0\n",
    "    for item in dict1:\n",
    "        total += dict1[item]\n",
    "    \n",
    "      \n",
    "    return total \n",
    "    \n",
    "\n",
    "#jaccard's algorithm\n",
    "def jaccard(dict1,dict2):\n",
    "    intersection = {}\n",
    "# for each key in dictionary1, if it is in dictionary2, then the words belong to both the dictionaries\n",
    "    for item in dict1.keys():\n",
    "        if item in dict2.keys():\n",
    "            intersection[item] = min(dict1[item],dict2[item])      \n",
    "# minimum frequency is taken so that in the intersection only the minimum number belongs to both the bags\n",
    "    intersectiontotal = totalfreq(intersection)\n",
    "    union = totalfreq(dict1)+totalfreq(dict2) - intersectiontotal\n",
    "    return round(intersectiontotal/union,4)"
   ]
  },
  {
   "cell_type": "markdown",
   "id": "ce4bef99",
   "metadata": {
    "id": "ce4bef99",
    "papermill": {
     "duration": 0.079253,
     "end_time": "2022-01-14T04:05:41.692516",
     "exception": false,
     "start_time": "2022-01-14T04:05:41.613263",
     "status": "completed"
    },
    "tags": []
   },
   "source": [
    "We have defined the time_it for the purpose of timing the runtime for the algorithms. The function calculates and collects the runtimes for the algorithms."
   ]
  },
  {
   "cell_type": "code",
   "execution_count": 10,
   "id": "8f27a6f3",
   "metadata": {
    "execution": {
     "iopub.execute_input": "2022-01-14T04:05:41.856878Z",
     "iopub.status.busy": "2022-01-14T04:05:41.856102Z",
     "iopub.status.idle": "2022-01-14T04:05:41.863454Z",
     "shell.execute_reply": "2022-01-14T04:05:41.864133Z",
     "shell.execute_reply.started": "2021-12-13T17:00:57.339815Z"
    },
    "id": "8f27a6f3",
    "papermill": {
     "duration": 0.089979,
     "end_time": "2022-01-14T04:05:41.864380",
     "exception": false,
     "start_time": "2022-01-14T04:05:41.774401",
     "status": "completed"
    },
    "tags": []
   },
   "outputs": [],
   "source": [
    "#Function to find average running time of a target function\n",
    "def time_it(somefunc,*arg,number_of_repeats=100,**kwarg):\n",
    "    \n",
    "    list_dict=[]\n",
    "  \n",
    " #in each iteration the runtime of the function is noted and appended to a list\n",
    "    for i in range(number_of_repeats):\n",
    "        starttime = time.perf_counter()\n",
    "        somefunc(*arg,**kwarg)\n",
    "        endtime = time.perf_counter()\n",
    "        list_dict.append(endtime-starttime)\n",
    "    \n",
    "\n",
    "    a = 0\n",
    "    for i in list_dict:\n",
    "        a += i #finds the average of the list\n",
    "    \n",
    "    \n",
    "    mean = a/len(list_dict)\n",
    "\n",
    "    return mean"
   ]
  },
  {
   "cell_type": "markdown",
   "id": "6ed38d11",
   "metadata": {
    "id": "6ed38d11",
    "papermill": {
     "duration": 0.078442,
     "end_time": "2022-01-14T04:05:42.019684",
     "exception": false,
     "start_time": "2022-01-14T04:05:41.941242",
     "status": "completed"
    },
    "tags": []
   },
   "source": [
    "## Q 1.2) Emperical analysis of the Jaccard's algorithm runtime.\n",
    "\n"
   ]
  },
  {
   "cell_type": "code",
   "execution_count": 11,
   "id": "370cfca8",
   "metadata": {
    "colab": {
     "base_uri": "https://localhost:8080/"
    },
    "execution": {
     "iopub.execute_input": "2022-01-14T04:05:42.183760Z",
     "iopub.status.busy": "2022-01-14T04:05:42.182680Z",
     "iopub.status.idle": "2022-01-14T04:05:52.033056Z",
     "shell.execute_reply": "2022-01-14T04:05:52.032475Z",
     "shell.execute_reply.started": "2021-12-13T17:00:57.35464Z"
    },
    "id": "370cfca8",
    "outputId": "5646107d-68cf-431f-9119-b9664bb557fd",
    "papermill": {
     "duration": 9.937001,
     "end_time": "2022-01-14T04:05:52.033200",
     "exception": false,
     "start_time": "2022-01-14T04:05:42.096199",
     "status": "completed"
    },
    "tags": []
   },
   "outputs": [],
   "source": [
    "list_jaccard_time =[]\n",
    "#Pair of documents with each pair having different lenght is passed in the loop so that time for different length of the document is captured\n",
    "  # for each pair of documents, time_it function runs for 100 times\n",
    "for i in range(len(doc_pair_list)):\n",
    "    k =time_it(jaccard,doc_pair_list[i][0],doc_pair_list[i][1],number_of_repeats = 300)\n",
    "    list_jaccard_time.append(k)"
   ]
  },
  {
   "cell_type": "code",
   "execution_count": 12,
   "id": "4edd03f4",
   "metadata": {
    "colab": {
     "base_uri": "https://localhost:8080/"
    },
    "execution": {
     "iopub.execute_input": "2022-01-14T04:05:52.204228Z",
     "iopub.status.busy": "2022-01-14T04:05:52.193709Z",
     "iopub.status.idle": "2022-01-14T04:05:52.368330Z",
     "shell.execute_reply": "2022-01-14T04:05:52.368857Z",
     "shell.execute_reply.started": "2021-12-13T17:01:04.97114Z"
    },
    "id": "4edd03f4",
    "outputId": "3629be00-3ec2-4639-e6e1-31c5aa31ba22",
    "papermill": {
     "duration": 0.259149,
     "end_time": "2022-01-14T04:05:52.369049",
     "exception": false,
     "start_time": "2022-01-14T04:05:52.109900",
     "status": "completed"
    },
    "tags": []
   },
   "outputs": [],
   "source": [
    "#This list stores value of the jaccard similarity computed\n",
    "list_jaccard_values = [jaccard(doc_pair_list[i][0],doc_pair_list[i][1]) for i in list(range(len(doc_pair_list)))]\n"
   ]
  },
  {
   "cell_type": "code",
   "execution_count": 13,
   "id": "e7706be7",
   "metadata": {
    "colab": {
     "base_uri": "https://localhost:8080/",
     "height": 310
    },
    "execution": {
     "iopub.execute_input": "2022-01-14T04:05:52.681763Z",
     "iopub.status.busy": "2022-01-14T04:05:52.680995Z",
     "iopub.status.idle": "2022-01-14T04:05:52.964248Z",
     "shell.execute_reply": "2022-01-14T04:05:52.964812Z",
     "shell.execute_reply.started": "2021-12-13T17:01:05.122158Z"
    },
    "id": "e7706be7",
    "outputId": "6debd21e-921e-439c-de9f-ac8c4c47a954",
    "papermill": {
     "duration": 0.364709,
     "end_time": "2022-01-14T04:05:52.965014",
     "exception": false,
     "start_time": "2022-01-14T04:05:52.600305",
     "status": "completed"
    },
    "tags": []
   },
   "outputs": [
    {
     "data": {
      "image/png": "[encoded data removed]",
      "text/plain": [
       "<Figure size 432x288 with 1 Axes>"
      ]
     },
     "metadata": {
      "needs_background": "light"
     },
     "output_type": "display_data"
    }
   ],
   "source": [
    "%matplotlib inline\n",
    "x = list(range(500,len(doc_pair_list)+500))#list of bag size\n",
    "y = list_jaccard_time\n",
    "\n",
    "plt.xlabel('Bag Size')\n",
    "plt.ylabel('Mean Jaccard Run Time (s)')\n",
    "plt.title('Run Time of \\n Jaccard similarity vs bag size')\n",
    "plt.plot(x,y)\n",
    "\n",
    "\n",
    "plt.show()\n",
    "\n"
   ]
  },
  {
   "cell_type": "markdown",
   "id": "4ff338f5",
   "metadata": {
    "id": "4ff338f5",
    "papermill": {
     "duration": 0.077936,
     "end_time": "2022-01-14T04:05:53.122389",
     "exception": false,
     "start_time": "2022-01-14T04:05:53.044453",
     "status": "completed"
    },
    "tags": []
   },
   "source": [
    "We can see the plot gives us a curve. In order to find the time complexity we have to assume that the curve is in the form of  \n",
    "$y = M_a.x^\\alpha$.\n",
    "\n",
    "When we can take $log$ on both sides of the equation and make it in the form $log \\,y = log(M_a) \\, + \\alpha \\, log(x)$\n",
    "\n",
    "we get the equation of a straight line where $log \\, (M_a)$ is the intercept and $\\alpha $ is the slope."
   ]
  },
  {
   "cell_type": "code",
   "execution_count": 14,
   "id": "845dfb27",
   "metadata": {
    "colab": {
     "base_uri": "https://localhost:8080/",
     "height": 279
    },
    "execution": {
     "iopub.execute_input": "2022-01-14T04:05:53.292248Z",
     "iopub.status.busy": "2022-01-14T04:05:53.291428Z",
     "iopub.status.idle": "2022-01-14T04:05:53.485045Z",
     "shell.execute_reply": "2022-01-14T04:05:53.485602Z",
     "shell.execute_reply.started": "2021-12-13T17:01:05.390358Z"
    },
    "id": "845dfb27",
    "outputId": "3e331d6f-a31c-478c-a72f-8582ebe1b70e",
    "papermill": {
     "duration": 0.284822,
     "end_time": "2022-01-14T04:05:53.485788",
     "exception": false,
     "start_time": "2022-01-14T04:05:53.200966",
     "status": "completed"
    },
    "tags": []
   },
   "outputs": [
    {
     "data": {
      "image/png": "[encoded data removed]",
      "text/plain": [
       "<Figure size 432x288 with 1 Axes>"
      ]
     },
     "metadata": {
      "needs_background": "light"
     },
     "output_type": "display_data"
    }
   ],
   "source": [
    "# Converting each element in the bag size list and the run time list to logarithmic values with base 10\n",
    "logx = [ np.log10(i )for i in x]\n",
    "logy = [np.log10(i) for i in y]\n",
    "#plotting the graph between the log values\n",
    "plt.plot(logx,logy)\n",
    "plt.ylabel(\"Log mean Jaccard Runtime\")\n",
    "plt.xlabel('Log of Bag Size')\n",
    "plt.show()"
   ]
  },
  {
   "cell_type": "code",
   "execution_count": 15,
   "id": "a9a6338a",
   "metadata": {
    "colab": {
     "base_uri": "https://localhost:8080/"
    },
    "execution": {
     "iopub.execute_input": "2022-01-14T04:05:53.648240Z",
     "iopub.status.busy": "2022-01-14T04:05:53.647543Z",
     "iopub.status.idle": "2022-01-14T04:05:53.657468Z",
     "shell.execute_reply": "2022-01-14T04:05:53.658109Z",
     "shell.execute_reply.started": "2021-12-13T17:01:05.585474Z"
    },
    "id": "a9a6338a",
    "outputId": "d7f7661c-afdb-4a2b-9734-5cd3fe5d3da5",
    "papermill": {
     "duration": 0.093464,
     "end_time": "2022-01-14T04:05:53.658311",
     "exception": false,
     "start_time": "2022-01-14T04:05:53.564847",
     "status": "completed"
    },
    "tags": []
   },
   "outputs": [
    {
     "name": "stdout",
     "output_type": "stream",
     "text": [
      "The slope is 0.9836284824699405 and the Constant for the computation is 2.630628286288338e-07\n"
     ]
    }
   ],
   "source": [
    "slope_jaccard,intercept, r_value, p_value ,std_err = stats.linregress(logx,logy)\n",
    "constant = np.power(10,intercept)\n",
    "print(\"The slope is {} and the Constant for the computation is {}\".format(slope_jaccard,constant))"
   ]
  },
  {
   "cell_type": "markdown",
   "id": "976f858e",
   "metadata": {
    "id": "976f858e",
    "papermill": {
     "duration": 0.080152,
     "end_time": "2022-01-14T04:05:53.818135",
     "exception": false,
     "start_time": "2022-01-14T04:05:53.737983",
     "status": "completed"
    },
    "tags": []
   },
   "source": [
    " we have got $\\alpha$ value $\\approx \\, 0.98$ for multiple runs  and the constant for the computation seems to be of the order of $10^{-7}$.\n",
    "\n",
    "So the time complexity of our implementation would be almost $O(n^{0.98})$ which is considered to be better than the worst case run time for jaccards algorithm."
   ]
  },
  {
   "cell_type": "markdown",
   "id": "17c3d1f6",
   "metadata": {
    "id": "d514e8aa",
    "papermill": {
     "duration": 0.078755,
     "end_time": "2022-01-14T04:05:53.979278",
     "exception": false,
     "start_time": "2022-01-14T04:05:53.900523",
     "status": "completed"
    },
    "tags": []
   },
   "source": [
    "## Q2) Cosine Similarity Vector iteration"
   ]
  },
  {
   "cell_type": "markdown",
   "id": "214d132b",
   "metadata": {
    "id": "214d132b",
    "papermill": {
     "duration": 0.079457,
     "end_time": "2022-01-14T04:05:54.139079",
     "exception": false,
     "start_time": "2022-01-14T04:05:54.059622",
     "status": "completed"
    },
    "tags": []
   },
   "source": [
    "* Cosine similarity is another mathematical concept which can be used to determine the similarity between two documents by finding out the angle between the two vectors. Smaller angle $\\implies$ higher the $cos \\, \\theta$ and more similar the documents are.\n",
    "\n",
    "* $cos\\, \\theta\\, =\\cfrac { \\vec A\\, \\cdot \\vec B}{ |A| * |B|} $"
   ]
  },
  {
   "cell_type": "code",
   "execution_count": 16,
   "id": "c92142a1",
   "metadata": {
    "execution": {
     "iopub.execute_input": "2022-01-14T04:05:54.472786Z",
     "iopub.status.busy": "2022-01-14T04:05:54.471951Z",
     "iopub.status.idle": "2022-01-14T04:05:54.479994Z",
     "shell.execute_reply": "2022-01-14T04:05:54.481062Z",
     "shell.execute_reply.started": "2021-12-13T17:01:05.59582Z"
    },
    "id": "c92142a1",
    "papermill": {
     "duration": 0.09493,
     "end_time": "2022-01-14T04:05:54.481359",
     "exception": false,
     "start_time": "2022-01-14T04:05:54.386429",
     "status": "completed"
    },
    "tags": []
   },
   "outputs": [],
   "source": [
    "#Function which generates dense vector pairs as numpy arrays for finding out the cosine similarity\n",
    "def densevectors_asnparray(dict1,dict2):\n",
    "  list1 = list(dict1.keys())\n",
    "  list2 = list(dict2.keys())\n",
    "  listtogather = list(set(list1 + list2)) # creating a list of unique keys from both the dict.keys() list\n",
    "  list1f =[]\n",
    "  list2f= []\n",
    "  for i in listtogather: #for keys in dict1, it gives the corresponding values and otherwise it appends 0\n",
    "    if i in dict1.keys():\n",
    "      list1f.append(dict1[i])\n",
    "    else:\n",
    "      list1f.append(0)\n",
    "\n",
    "  for i in listtogather: #for keys in dict2, it gives the corresponding values and otherwise it appends 0\n",
    "    if i in dict2.keys():\n",
    "      list2f.append(dict2[i])\n",
    "    else:\n",
    "      list2f.append(0)\n",
    "\n",
    "  return np.asarray(list1f) ,np.asarray(list2f) #finally the funciton returns numpy vectors corresponding to each dictionary\n"
   ]
  },
  {
   "cell_type": "markdown",
   "id": "e0183517",
   "metadata": {
    "id": "e0183517",
    "papermill": {
     "duration": 0.080276,
     "end_time": "2022-01-14T04:05:54.642132",
     "exception": false,
     "start_time": "2022-01-14T04:05:54.561856",
     "status": "completed"
    },
    "tags": []
   },
   "source": [
    "The above created densevectors_asnparray is used to create a list of numpy vector pairs and it is stored in a new list list_densevector_nppair"
   ]
  },
  {
   "cell_type": "code",
   "execution_count": 17,
   "id": "bcd03c35",
   "metadata": {
    "execution": {
     "iopub.execute_input": "2022-01-14T04:05:54.808918Z",
     "iopub.status.busy": "2022-01-14T04:05:54.803074Z",
     "iopub.status.idle": "2022-01-14T04:05:55.439147Z",
     "shell.execute_reply": "2022-01-14T04:05:55.438543Z",
     "shell.execute_reply.started": "2021-12-13T17:01:05.605896Z"
    },
    "id": "bcd03c35",
    "papermill": {
     "duration": 0.717284,
     "end_time": "2022-01-14T04:05:55.439311",
     "exception": false,
     "start_time": "2022-01-14T04:05:54.722027",
     "status": "completed"
    },
    "tags": []
   },
   "outputs": [],
   "source": [
    "# To generate list of densevector pair in numpy array form\n",
    "list_densevector_nppair = []\n",
    "for i in doc_pair_list:\n",
    "  list_densevector_nppair.append(densevectors_asnparray(i[0],i[1]))\n",
    "\n",
    "\n"
   ]
  },
  {
   "cell_type": "code",
   "execution_count": 18,
   "id": "f6da4d12",
   "metadata": {
    "execution": {
     "iopub.execute_input": "2022-01-14T04:05:55.599659Z",
     "iopub.status.busy": "2022-01-14T04:05:55.598991Z",
     "iopub.status.idle": "2022-01-14T04:05:55.603168Z",
     "shell.execute_reply": "2022-01-14T04:05:55.603751Z",
     "shell.execute_reply.started": "2021-12-13T17:01:06.012804Z"
    },
    "id": "f6da4d12",
    "papermill": {
     "duration": 0.086616,
     "end_time": "2022-01-14T04:05:55.603945",
     "exception": false,
     "start_time": "2022-01-14T04:05:55.517329",
     "status": "completed"
    },
    "tags": []
   },
   "outputs": [],
   "source": [
    "#stores the lenght of vector pairs created so that later it can be used to plot the list lenth vs run time graph\n",
    "list_len_densevector_nppair = [len(i[0]) for i in list_densevector_nppair]\n"
   ]
  },
  {
   "cell_type": "markdown",
   "id": "c47098b8",
   "metadata": {
    "id": "c47098b8",
    "papermill": {
     "duration": 0.078606,
     "end_time": "2022-01-14T04:05:55.761930",
     "exception": false,
     "start_time": "2022-01-14T04:05:55.683324",
     "status": "completed"
    },
    "tags": []
   },
   "source": [
    "## Q 2.1) The Theoretical worst case running time of cosine similarity for vector iteration.\n",
    "\n",
    "The cosine similarity function takes in two list of numpy array, but loops through each element in the array for finding out the dot product of the vector and to find the modulus of each vector.\n",
    "\n",
    "when we are running the created cosine similarity function `cosinesim_dot(A,B)`  we can see there are 4 for loops with time complexity of $O(n)$ which makes the entire function to have a time complexity of $\\longrightarrow O(n)$\n",
    "\n"
   ]
  },
  {
   "cell_type": "code",
   "execution_count": 19,
   "id": "bd65da1a",
   "metadata": {
    "execution": {
     "iopub.execute_input": "2022-01-14T04:05:55.929345Z",
     "iopub.status.busy": "2022-01-14T04:05:55.928324Z",
     "iopub.status.idle": "2022-01-14T04:05:55.931517Z",
     "shell.execute_reply": "2022-01-14T04:05:55.931008Z",
     "shell.execute_reply.started": "2021-12-13T17:01:06.018716Z"
    },
    "id": "bd65da1a",
    "papermill": {
     "duration": 0.089712,
     "end_time": "2022-01-14T04:05:55.931690",
     "exception": false,
     "start_time": "2022-01-14T04:05:55.841978",
     "status": "completed"
    },
    "tags": []
   },
   "outputs": [],
   "source": [
    "def modvec(vec): # Function to calculate the modulus of a vector\n",
    "  sum = 0\n",
    "  \n",
    "  for i in vec:\n",
    "    sum += i**2\n",
    "  return np.sqrt(sum)\n",
    "\n",
    "def cosinesim_dot(A,B):# function to calculate the cosine similarity by looping over individual element in the vector ie vector iteration\n",
    "  sum = 0\n",
    "  for i in range(len(A)):\n",
    "    sum += A[i]*B[i]\n",
    "\n",
    "  modA = modvec(A)\n",
    "  modB = modvec(B)\n",
    "\n",
    "  k = modA*modB\n",
    "\n",
    "  return round(sum/k,4)\n"
   ]
  },
  {
   "cell_type": "code",
   "execution_count": 20,
   "id": "fd0d16e0",
   "metadata": {
    "execution": {
     "iopub.execute_input": "2022-01-14T04:05:56.098702Z",
     "iopub.status.busy": "2022-01-14T04:05:56.097982Z",
     "iopub.status.idle": "2022-01-14T04:08:43.258004Z",
     "shell.execute_reply": "2022-01-14T04:08:43.257295Z",
     "shell.execute_reply.started": "2021-12-13T17:01:06.03162Z"
    },
    "id": "fd0d16e0",
    "papermill": {
     "duration": 167.248228,
     "end_time": "2022-01-14T04:08:43.258171",
     "exception": false,
     "start_time": "2022-01-14T04:05:56.009943",
     "status": "completed"
    },
    "tags": []
   },
   "outputs": [],
   "source": [
    "list_cosinesim_dot_time =[]\n",
    "for i in list_densevector_nppair:\n",
    "  k = time_it(cosinesim_dot,i[0],i[1],number_of_repeats = 300)\n",
    "  list_cosinesim_dot_time.append(k)"
   ]
  },
  {
   "cell_type": "code",
   "execution_count": 21,
   "id": "64bb4740",
   "metadata": {
    "execution": {
     "iopub.execute_input": "2022-01-14T04:08:43.423039Z",
     "iopub.status.busy": "2022-01-14T04:08:43.422283Z",
     "iopub.status.idle": "2022-01-14T04:08:45.121102Z",
     "shell.execute_reply": "2022-01-14T04:08:45.120341Z",
     "shell.execute_reply.started": "2021-12-13T17:02:27.749166Z"
    },
    "id": "64bb4740",
    "papermill": {
     "duration": 1.781873,
     "end_time": "2022-01-14T04:08:45.121274",
     "exception": false,
     "start_time": "2022-01-14T04:08:43.339401",
     "status": "completed"
    },
    "tags": []
   },
   "outputs": [],
   "source": [
    "#This list retains the cosine similarity values for vector iteration\n",
    "list_cosinesim_dot_values = [cosinesim_dot(list_densevector_nppair[i][0],list_densevector_nppair[i][1]) for i in list(range(len(list_densevector_nppair)))]"
   ]
  },
  {
   "cell_type": "code",
   "execution_count": 22,
   "id": "1a585f6e",
   "metadata": {
    "colab": {
     "base_uri": "https://localhost:8080/",
     "height": 237
    },
    "execution": {
     "iopub.execute_input": "2022-01-14T04:08:45.306173Z",
     "iopub.status.busy": "2022-01-14T04:08:45.304942Z",
     "iopub.status.idle": "2022-01-14T04:08:45.682924Z",
     "shell.execute_reply": "2022-01-14T04:08:45.682273Z",
     "shell.execute_reply.started": "2021-12-13T17:02:28.578954Z"
    },
    "id": "1a585f6e",
    "outputId": "543eaf9a-05a4-4a9a-f9de-5847f6bb8630",
    "papermill": {
     "duration": 0.480113,
     "end_time": "2022-01-14T04:08:45.683091",
     "exception": false,
     "start_time": "2022-01-14T04:08:45.202978",
     "status": "completed"
    },
    "tags": []
   },
   "outputs": [
    {
     "data": {
      "image/png": "[encoded data removed]",
      "text/plain": [
       "<Figure size 432x288 with 2 Axes>"
      ]
     },
     "metadata": {
      "needs_background": "light"
     },
     "output_type": "display_data"
    }
   ],
   "source": [
    "\n",
    "plt.subplots_adjust(1,0,2.5,0.5)\n",
    "\n",
    "plt.subplot(121)\n",
    "plt.plot(list_len_densevector_nppair,list_cosinesim_dot_time,'r')\n",
    "\n",
    "\n",
    "plt.xlabel(' Dense Vector Length')\n",
    "plt.ylabel('Mean Cosine Run Time (s)')\n",
    "plt.title('Vector lenght vs Run time for \\n cosine similarity with vector iteraton')\n",
    "\n",
    "plt.subplot(122)\n",
    "x = list_len_densevector_nppair\n",
    "y = list_cosinesim_dot_time\n",
    "\n",
    "logX = np.log10(x)\n",
    "logY = np.log10(y)\n",
    "\n",
    "plt.scatter(logX,logY)\n",
    "plt.title('log Vector lenght vs log Run time for \\n cosine similarity with vector iteraton')\n",
    "plt.xlabel('Log Dense Vector Length')\n",
    "plt.ylabel('Log Mean Cosine Run Time (s)')\n",
    "plt.show()"
   ]
  },
  {
   "cell_type": "code",
   "execution_count": 23,
   "id": "0495cb12",
   "metadata": {
    "colab": {
     "base_uri": "https://localhost:8080/"
    },
    "execution": {
     "iopub.execute_input": "2022-01-14T04:08:45.858503Z",
     "iopub.status.busy": "2022-01-14T04:08:45.857786Z",
     "iopub.status.idle": "2022-01-14T04:08:45.860802Z",
     "shell.execute_reply": "2022-01-14T04:08:45.861302Z",
     "shell.execute_reply.started": "2021-12-13T17:02:29.09554Z"
    },
    "id": "0495cb12",
    "outputId": "da2e9ad7-7a70-435a-9174-b870487f0cac",
    "papermill": {
     "duration": 0.0953,
     "end_time": "2022-01-14T04:08:45.861472",
     "exception": false,
     "start_time": "2022-01-14T04:08:45.766172",
     "status": "completed"
    },
    "tags": []
   },
   "outputs": [
    {
     "name": "stdout",
     "output_type": "stream",
     "text": [
      "The slope is 0.9785316762446449 and the constant for the computation is 8.736719655559144e-07\n"
     ]
    }
   ],
   "source": [
    "slope_cosine_vec, intercept, r_value, p_value, std_errd = stats.linregress(logX,logY)\n",
    "constant = np.power(10, intercept)\n",
    "print('The slope is {} and the constant for the computation is {}'.format(slope_cosine_vec,constant))"
   ]
  },
  {
   "cell_type": "markdown",
   "id": "4d4e6954",
   "metadata": {
    "id": "4d4e6954",
    "papermill": {
     "duration": 0.080655,
     "end_time": "2022-01-14T04:08:46.023156",
     "exception": false,
     "start_time": "2022-01-14T04:08:45.942501",
     "status": "completed"
    },
    "tags": []
   },
   "source": [
    "## Q 2.1) Emperical time complexity observation of cosine similarity using vector iteration.\n",
    "\n",
    "The $\\alpha $ value of the equation is $\\approx 0.99$ for multiple runs $\\implies O(n^{0.99})$, hence we can justify the theoretical prediction of the complexity as $O(n)$\n",
    "\n",
    "So, emperically I can write the function as $y = 10^{-6} \\, x^{0.99}$ , where $y$ is the run time of the function and $x$ is the length of the vectors."
   ]
  },
  {
   "cell_type": "markdown",
   "id": "5256e02f",
   "metadata": {
    "id": "5256e02f",
    "papermill": {
     "duration": 0.080043,
     "end_time": "2022-01-14T04:08:46.188124",
     "exception": false,
     "start_time": "2022-01-14T04:08:46.108081",
     "status": "completed"
    },
    "tags": []
   },
   "source": [
    "## Q 2.2) Theoretical time complexity of cosine similarity using numpy array\n",
    "\n",
    "The time complexity for a numpy array to access an element in an numpy array by using numpy methods is $O(1)$.\n",
    "\n",
    "Since our function, has no list to array conversion, the theoretical time complexity of the function would be $\\longrightarrow O(1)$"
   ]
  },
  {
   "cell_type": "code",
   "execution_count": 24,
   "id": "865cb17e",
   "metadata": {
    "execution": {
     "iopub.execute_input": "2022-01-14T04:08:46.354830Z",
     "iopub.status.busy": "2022-01-14T04:08:46.354089Z",
     "iopub.status.idle": "2022-01-14T04:08:46.359912Z",
     "shell.execute_reply": "2022-01-14T04:08:46.360433Z",
     "shell.execute_reply.started": "2021-12-13T17:02:29.103952Z"
    },
    "id": "865cb17e",
    "papermill": {
     "duration": 0.089917,
     "end_time": "2022-01-14T04:08:46.360627",
     "exception": false,
     "start_time": "2022-01-14T04:08:46.270710",
     "status": "completed"
    },
    "tags": []
   },
   "outputs": [],
   "source": [
    "# funcion to calculate cosine similarity using numpy module\n",
    "def cosinesim_numpy(A,B):\n",
    "  \n",
    "  \n",
    "  modA = np.sqrt(np.dot(A,A))\n",
    "  modB = np.sqrt(np.dot(B,B))\n",
    "  AdotB = np.dot(A,B)\n",
    "  x = modA * modB\n",
    "\n",
    "  cosinesimilarity = AdotB/x\n",
    "\n",
    "  return round(cosinesimilarity,4)\n"
   ]
  },
  {
   "cell_type": "code",
   "execution_count": 25,
   "id": "44cb3868",
   "metadata": {
    "execution": {
     "iopub.execute_input": "2022-01-14T04:08:46.532787Z",
     "iopub.status.busy": "2022-01-14T04:08:46.532058Z",
     "iopub.status.idle": "2022-01-14T04:08:47.689084Z",
     "shell.execute_reply": "2022-01-14T04:08:47.689619Z",
     "shell.execute_reply.started": "2021-12-13T17:02:29.114284Z"
    },
    "id": "44cb3868",
    "papermill": {
     "duration": 1.247709,
     "end_time": "2022-01-14T04:08:47.689823",
     "exception": false,
     "start_time": "2022-01-14T04:08:46.442114",
     "status": "completed"
    },
    "tags": []
   },
   "outputs": [],
   "source": [
    "list_cosinenp_time = []\n",
    "for i in list_densevector_nppair:\n",
    "    k = time_it(cosinesim_numpy,i[0],i[1],number_of_repeats=300) #We run the algorithm 300 times, the numpy array method is very fast in computing the similarity\n",
    "    list_cosinenp_time.append(k)\n"
   ]
  },
  {
   "cell_type": "code",
   "execution_count": 26,
   "id": "914bc6a3",
   "metadata": {
    "execution": {
     "iopub.execute_input": "2022-01-14T04:08:47.856878Z",
     "iopub.status.busy": "2022-01-14T04:08:47.856165Z",
     "iopub.status.idle": "2022-01-14T04:08:47.873598Z",
     "shell.execute_reply": "2022-01-14T04:08:47.874164Z",
     "shell.execute_reply.started": "2021-12-13T17:02:29.956934Z"
    },
    "id": "914bc6a3",
    "papermill": {
     "duration": 0.103189,
     "end_time": "2022-01-14T04:08:47.874363",
     "exception": false,
     "start_time": "2022-01-14T04:08:47.771174",
     "status": "completed"
    },
    "tags": []
   },
   "outputs": [],
   "source": [
    "#This list retains the values of cosine similarity by using numpy array dot product\n",
    "list_cosinesim_numpy_values = [ cosinesim_numpy(list_densevector_nppair[i][0],list_densevector_nppair[i][1]) for i in list(range(len(list_densevector_nppair)))]"
   ]
  },
  {
   "cell_type": "code",
   "execution_count": 27,
   "id": "1b30191f",
   "metadata": {
    "colab": {
     "base_uri": "https://localhost:8080/",
     "height": 237
    },
    "execution": {
     "iopub.execute_input": "2022-01-14T04:08:48.041936Z",
     "iopub.status.busy": "2022-01-14T04:08:48.041237Z",
     "iopub.status.idle": "2022-01-14T04:08:48.580770Z",
     "shell.execute_reply": "2022-01-14T04:08:48.581335Z",
     "shell.execute_reply.started": "2021-12-13T17:02:29.975494Z"
    },
    "id": "1b30191f",
    "outputId": "91e3e0dd-c726-4e4c-e4e1-ec68dfd15e69",
    "papermill": {
     "duration": 0.62497,
     "end_time": "2022-01-14T04:08:48.581514",
     "exception": false,
     "start_time": "2022-01-14T04:08:47.956544",
     "status": "completed"
    },
    "tags": []
   },
   "outputs": [
    {
     "data": {
      "image/png": "[encoded data removed]",
      "text/plain": [
       "<Figure size 432x288 with 2 Axes>"
      ]
     },
     "metadata": {
      "needs_background": "light"
     },
     "output_type": "display_data"
    }
   ],
   "source": [
    "plt.subplots_adjust(1,0,2.5,0.5)\n",
    "\n",
    "plt.subplot(121)\n",
    "plt.plot(list_len_densevector_nppair,list_cosinenp_time,'g')\n",
    "plt.ylabel('Mean Cosine Runtime (s)')\n",
    "plt.xlabel('Size of Dense Vector')\n",
    "plt.title('Vector lenght v/s Runtime for \\n cosine similarity with numpy array')\n",
    "\n",
    "plt.subplot(122)\n",
    "x = list_len_densevector_nppair\n",
    "y = list_cosinenp_time\n",
    "logX = np.log10(x)\n",
    "logY = np.log10(y)\n",
    "plt.scatter(logX,logY)\n",
    "plt.xlabel('Log Size of Dense Vector')\n",
    "plt.ylabel('Log Mean Cosine Runtime')\n",
    "plt.title('log Vector lenght v/s log Runtime for \\n cosine similarity with numpy array')\n",
    "plt.show()"
   ]
  },
  {
   "cell_type": "code",
   "execution_count": 28,
   "id": "68637dc0",
   "metadata": {
    "colab": {
     "base_uri": "https://localhost:8080/"
    },
    "execution": {
     "iopub.execute_input": "2022-01-14T04:08:48.752696Z",
     "iopub.status.busy": "2022-01-14T04:08:48.752003Z",
     "iopub.status.idle": "2022-01-14T04:08:48.756119Z",
     "shell.execute_reply": "2022-01-14T04:08:48.756689Z",
     "shell.execute_reply.started": "2021-12-13T17:02:30.300628Z"
    },
    "id": "68637dc0",
    "outputId": "6a259c92-1180-4eaa-c90c-414974a1df46",
    "papermill": {
     "duration": 0.092675,
     "end_time": "2022-01-14T04:08:48.756873",
     "exception": false,
     "start_time": "2022-01-14T04:08:48.664198",
     "status": "completed"
    },
    "tags": []
   },
   "outputs": [
    {
     "name": "stdout",
     "output_type": "stream",
     "text": [
      "The slope is 0.04083327421125693 and the Constant for the computation is 1.183909093369019e-05\n"
     ]
    }
   ],
   "source": [
    "slope_cosine_np, intercept, r_value , p_value , std_err = stats.linregress(logX,logY)\n",
    "constant = np.power(10,intercept)\n",
    "print('The slope is {} and the Constant for the computation is {}'.format(slope_cosine_np,constant))"
   ]
  },
  {
   "cell_type": "markdown",
   "id": "74adffb0",
   "metadata": {},
   "source": [
    "The runtime for this algorithm is very less and the slope and intercept would greatly depend on the computing power of the computer."
   ]
  },
  {
   "cell_type": "markdown",
   "id": "bfa0018d",
   "metadata": {
    "id": "bfa0018d",
    "papermill": {
     "duration": 0.083686,
     "end_time": "2022-01-14T04:08:48.924291",
     "exception": false,
     "start_time": "2022-01-14T04:08:48.840605",
     "status": "completed"
    },
    "tags": []
   },
   "source": [
    "## Q 2.2) The emperical time complexity analysis for the cosine similarity implementation using numpy array methods.\n",
    "\n",
    "Using the numpy array method, $\\alpha $ value for the function is between $0.01$ to $0.3$ for multiple runs of the algorithm, with the mode value $\\approx 0.11$. The constant for the computation is of the order of $10^{-5}$.\n",
    "\n",
    "So, we can write $y= 10^{-5} x^{0.11}$ which is $\\approx 10^{-5}$. Hence emperically we got the run time of the cosine similarity using numpy array methods. They are mostly independent of the vector dimension."
   ]
  },
  {
   "cell_type": "code",
   "execution_count": 29,
   "id": "227cb25d",
   "metadata": {
    "colab": {
     "base_uri": "https://localhost:8080/",
     "height": 295
    },
    "execution": {
     "iopub.execute_input": "2022-01-14T04:08:49.102181Z",
     "iopub.status.busy": "2022-01-14T04:08:49.095485Z",
     "iopub.status.idle": "2022-01-14T04:08:49.338521Z",
     "shell.execute_reply": "2022-01-14T04:08:49.339284Z",
     "shell.execute_reply.started": "2021-12-13T17:02:30.308312Z"
    },
    "id": "227cb25d",
    "outputId": "374a3089-567a-45ad-9943-c66d5e13a363",
    "papermill": {
     "duration": 0.330543,
     "end_time": "2022-01-14T04:08:49.339550",
     "exception": false,
     "start_time": "2022-01-14T04:08:49.009007",
     "status": "completed"
    },
    "tags": []
   },
   "outputs": [
    {
     "data": {
      "image/png": "[encoded data removed]",
      "text/plain": [
       "<Figure size 432x288 with 1 Axes>"
      ]
     },
     "metadata": {
      "needs_background": "light"
     },
     "output_type": "display_data"
    }
   ],
   "source": [
    "plt.plot(list_len_densevector_nppair,list_cosinesim_dot_time,'r')\n",
    "plt.plot(list_len_densevector_nppair,list_cosinenp_time,'g')\n",
    "\n",
    "plt.xlabel('Vector Dimension')\n",
    "plt.ylabel('Mean run time (s)')\n",
    "plt.title('Vector dimension v\\s mean Runtime')\n",
    "label =['cosine (vector iteration)', 'cosine (numpy array)']\n",
    "plt.legend(label, loc = 1, ncol = 2)\n",
    "plt.show()\n"
   ]
  },
  {
   "cell_type": "markdown",
   "id": "09dc46ae",
   "metadata": {
    "id": "09dc46ae",
    "papermill": {
     "duration": 0.084044,
     "end_time": "2022-01-14T04:08:49.509999",
     "exception": false,
     "start_time": "2022-01-14T04:08:49.425955",
     "status": "completed"
    },
    "tags": []
   },
   "source": [
    "The graph above makes it clear that vector iteration method takes significantly higher time than the cosine numpy array method algorithm."
   ]
  },
  {
   "cell_type": "markdown",
   "id": "5430a828",
   "metadata": {
    "id": "5430a828",
    "papermill": {
     "duration": 0.08349,
     "end_time": "2022-01-14T04:08:49.677117",
     "exception": false,
     "start_time": "2022-01-14T04:08:49.593627",
     "status": "completed"
    },
    "tags": []
   },
   "source": [
    "## Q 3) Theoretical comparison of time complexity of cosine implementation using sparse dictionaries with other similarity implementations.\n",
    "\n",
    "As there is a loop in the code to iterate through items in the dictionary the time complexity of the cosine similarity implementation using sparse representation will be $O(n)$ \n",
    "\n",
    "The jaccard and cosine sparse will have same time complexity $O(n)$"
   ]
  },
  {
   "cell_type": "code",
   "execution_count": 30,
   "id": "cbdd20f1",
   "metadata": {
    "execution": {
     "iopub.execute_input": "2022-01-14T04:08:49.853117Z",
     "iopub.status.busy": "2022-01-14T04:08:49.851995Z",
     "iopub.status.idle": "2022-01-14T04:08:49.853914Z",
     "shell.execute_reply": "2022-01-14T04:08:49.854405Z",
     "shell.execute_reply.started": "2021-12-13T17:02:30.564075Z"
    },
    "id": "cbdd20f1",
    "papermill": {
     "duration": 0.094316,
     "end_time": "2022-01-14T04:08:49.854590",
     "exception": false,
     "start_time": "2022-01-14T04:08:49.760274",
     "status": "completed"
    },
    "tags": []
   },
   "outputs": [],
   "source": [
    "def dot(d1,d2):#Here the inputs are dictionaries\n",
    "    if len(d1) < len(d2):\n",
    "        a = d1\n",
    "        b = d2\n",
    "    else:\n",
    "        a = d2\n",
    "        b = d1\n",
    "    dotproduct = 0\n",
    "    #for each key in the dictionary1, if there is similar key in dictionary2, then the values of both the keys are multiplied and added to the 'dotproduct' \n",
    "    for word,count in a.items():\n",
    "        dotproduct += count * b.get(word,0)\n",
    "    return dotproduct\n",
    "\n",
    "def cosinesim_sparse(d1,d2):\n",
    "    numerator = dot(d1,d2)# calls the dot function created earlier\n",
    "    denominator = np.sqrt(dot(d1,d1)*dot(d2,d2))\n",
    "    return round(numerator/denominator,4)\n",
    "  \n",
    "    \n"
   ]
  },
  {
   "cell_type": "code",
   "execution_count": 31,
   "id": "6d5948f1",
   "metadata": {
    "execution": {
     "iopub.execute_input": "2022-01-14T04:08:50.026086Z",
     "iopub.status.busy": "2022-01-14T04:08:50.025408Z",
     "iopub.status.idle": "2022-01-14T04:09:07.722221Z",
     "shell.execute_reply": "2022-01-14T04:09:07.721369Z",
     "shell.execute_reply.started": "2021-12-13T17:02:30.572766Z"
    },
    "id": "6d5948f1",
    "papermill": {
     "duration": 17.783495,
     "end_time": "2022-01-14T04:09:07.722392",
     "exception": false,
     "start_time": "2022-01-14T04:08:49.938897",
     "status": "completed"
    },
    "tags": []
   },
   "outputs": [],
   "source": [
    "#To get the list of average running time for cosine similarity using sparse(dictionary) representation\n",
    "list_cosinesim_sparse_time = []\n",
    "for i in doc_pair_list:\n",
    "  k = time_it(cosinesim_sparse,i[0],i[1],number_of_repeats=300)\n",
    "  list_cosinesim_sparse_time.append(k)\n"
   ]
  },
  {
   "cell_type": "code",
   "execution_count": 32,
   "id": "9141d5c0",
   "metadata": {
    "execution": {
     "iopub.execute_input": "2022-01-14T04:09:07.895428Z",
     "iopub.status.busy": "2022-01-14T04:09:07.894727Z",
     "iopub.status.idle": "2022-01-14T04:09:08.169639Z",
     "shell.execute_reply": "2022-01-14T04:09:08.170186Z",
     "shell.execute_reply.started": "2021-12-13T17:02:43.894635Z"
    },
    "id": "9141d5c0",
    "papermill": {
     "duration": 0.363666,
     "end_time": "2022-01-14T04:09:08.170384",
     "exception": false,
     "start_time": "2022-01-14T04:09:07.806718",
     "status": "completed"
    },
    "tags": []
   },
   "outputs": [],
   "source": [
    "#This list retains the cosine similarity values for the sparse comparison\n",
    "list_cosinesim_sparse_values = [cosinesim_sparse(doc_pair_list[i][0],doc_pair_list[i][1])    for i in list(range(len(doc_pair_list)))]"
   ]
  },
  {
   "cell_type": "code",
   "execution_count": 33,
   "id": "ea1bda8a",
   "metadata": {
    "execution": {
     "iopub.execute_input": "2022-01-14T04:09:08.345275Z",
     "iopub.status.busy": "2022-01-14T04:09:08.344590Z",
     "iopub.status.idle": "2022-01-14T04:09:08.347754Z",
     "shell.execute_reply": "2022-01-14T04:09:08.347068Z",
     "shell.execute_reply.started": "2021-12-13T17:02:44.128732Z"
    },
    "id": "ea1bda8a",
    "papermill": {
     "duration": 0.094473,
     "end_time": "2022-01-14T04:09:08.347917",
     "exception": false,
     "start_time": "2022-01-14T04:09:08.253444",
     "status": "completed"
    },
    "tags": []
   },
   "outputs": [],
   "source": [
    "#The following list retains the list of lenght of the document pair list\n",
    "list_len_doc_pair_list = [len(i[0]) for i in doc_pair_list]"
   ]
  },
  {
   "cell_type": "code",
   "execution_count": 34,
   "id": "e472f863",
   "metadata": {
    "colab": {
     "base_uri": "https://localhost:8080/",
     "height": 237
    },
    "execution": {
     "iopub.execute_input": "2022-01-14T04:09:08.526928Z",
     "iopub.status.busy": "2022-01-14T04:09:08.526023Z",
     "iopub.status.idle": "2022-01-14T04:09:08.873991Z",
     "shell.execute_reply": "2022-01-14T04:09:08.873119Z",
     "shell.execute_reply.started": "2021-12-13T17:02:44.135707Z"
    },
    "id": "e472f863",
    "outputId": "4ed94100-636d-4c83-c767-0e0c69a2a91f",
    "papermill": {
     "duration": 0.441877,
     "end_time": "2022-01-14T04:09:08.874181",
     "exception": false,
     "start_time": "2022-01-14T04:09:08.432304",
     "status": "completed"
    },
    "tags": []
   },
   "outputs": [
    {
     "data": {
      "image/png": "[encoded data removed]",
      "text/plain": [
       "<Figure size 432x288 with 2 Axes>"
      ]
     },
     "metadata": {
      "needs_background": "light"
     },
     "output_type": "display_data"
    }
   ],
   "source": [
    "x = list_len_doc_pair_list\n",
    "y = list_cosinesim_sparse_time\n",
    "plt.subplots_adjust(1,0,2.5,0.5)\n",
    "plt.subplot(121)\n",
    "plt.plot(x,y,'m')\n",
    "plt.xlabel(\"Document size\")\n",
    "plt.ylabel(\"Mean Cosine Run time (s)\")\n",
    "plt.title('Document size v\\s Runtime for \\n cosine similarity (sparse dictionary)')\n",
    "plt.subplot(122)\n",
    "logx = np.log10(x)\n",
    "logy = np.log10(y)\n",
    "\n",
    "plt.scatter(logx,logy)\n",
    "plt.xlabel('Log of Document Size')\n",
    "plt.ylabel('Log of Mean Cosine Run Time')\n",
    "plt.title(' log of Document size v\\s log Runtime for \\n cosine similarity (sparse dictionary)')\n",
    "\n",
    "plt.show()"
   ]
  },
  {
   "cell_type": "code",
   "execution_count": 35,
   "id": "7fdb7e4d",
   "metadata": {
    "colab": {
     "base_uri": "https://localhost:8080/"
    },
    "execution": {
     "iopub.execute_input": "2022-01-14T04:09:09.053275Z",
     "iopub.status.busy": "2022-01-14T04:09:09.052343Z",
     "iopub.status.idle": "2022-01-14T04:09:09.056702Z",
     "shell.execute_reply": "2022-01-14T04:09:09.057197Z",
     "shell.execute_reply.started": "2021-12-13T17:02:44.402542Z"
    },
    "id": "7fdb7e4d",
    "outputId": "c1aa437b-617f-424c-bd1c-9c1c9be974b7",
    "papermill": {
     "duration": 0.097398,
     "end_time": "2022-01-14T04:09:09.057382",
     "exception": false,
     "start_time": "2022-01-14T04:09:08.959984",
     "status": "completed"
    },
    "tags": []
   },
   "outputs": [
    {
     "name": "stdout",
     "output_type": "stream",
     "text": [
      "The slope is 0.9503221006441873 and the constant for the computation is 5.941556074449636e-07\n"
     ]
    }
   ],
   "source": [
    "slope_cosine_sparse , intercept, r_value , p_value , std_err = stats.linregress(logx,logy)\n",
    "constant = np.power(10,intercept)\n",
    "print('The slope is {} and the constant for the computation is {}'.format(slope_cosine_sparse,constant))"
   ]
  },
  {
   "cell_type": "markdown",
   "id": "3b222e81",
   "metadata": {
    "id": "3b222e81",
    "papermill": {
     "duration": 0.084915,
     "end_time": "2022-01-14T04:09:09.228074",
     "exception": false,
     "start_time": "2022-01-14T04:09:09.143159",
     "status": "completed"
    },
    "tags": []
   },
   "source": [
    "After multiple runs we can see that emperically the time complexity of the cosine similarity implementation using sparse representation $\\approx O(n^{0.9})$ which is slightly better than the worst case of $O(n)$ we determined theoretically."
   ]
  },
  {
   "cell_type": "markdown",
   "id": "861ad37f",
   "metadata": {},
   "source": [
    "## Q 3.1) Examining the correctness of the similarities"
   ]
  },
  {
   "cell_type": "code",
   "execution_count": 36,
   "id": "65ed8a29",
   "metadata": {
    "execution": {
     "iopub.execute_input": "2022-01-14T04:09:09.402667Z",
     "iopub.status.busy": "2022-01-14T04:09:09.401945Z",
     "iopub.status.idle": "2022-01-14T04:09:09.407235Z",
     "shell.execute_reply": "2022-01-14T04:09:09.406656Z",
     "shell.execute_reply.started": "2021-12-13T17:02:44.410825Z"
    },
    "id": "65ed8a29",
    "papermill": {
     "duration": 0.093555,
     "end_time": "2022-01-14T04:09:09.407397",
     "exception": false,
     "start_time": "2022-01-14T04:09:09.313842",
     "status": "completed"
    },
    "tags": []
   },
   "outputs": [],
   "source": [
    "data_dict = {'Jaccard similarity': list_jaccard_values,'cosine similarity(using vector iteration)':list_cosinesim_dot_values, 'cosine similarity(using numpy array)':list_cosinesim_numpy_values,'cosine similarity(using sparse representation)':list_cosinesim_sparse_values}"
   ]
  },
  {
   "cell_type": "code",
   "execution_count": 37,
   "id": "b4a86e00",
   "metadata": {
    "colab": {
     "base_uri": "https://localhost:8080/",
     "height": 424
    },
    "execution": {
     "iopub.execute_input": "2022-01-14T04:09:09.584509Z",
     "iopub.status.busy": "2022-01-14T04:09:09.583853Z",
     "iopub.status.idle": "2022-01-14T04:09:09.610122Z",
     "shell.execute_reply": "2022-01-14T04:09:09.610673Z",
     "shell.execute_reply.started": "2021-12-13T17:02:44.422228Z"
    },
    "id": "b4a86e00",
    "outputId": "78f2274f-c22e-4143-ddf3-2c32d3476613",
    "papermill": {
     "duration": 0.115515,
     "end_time": "2022-01-14T04:09:09.610850",
     "exception": false,
     "start_time": "2022-01-14T04:09:09.495335",
     "status": "completed"
    },
    "tags": []
   },
   "outputs": [
    {
     "data": {
      "text/html": [
       "<div>\n",
       "<style scoped>\n",
       "    .dataframe tbody tr th:only-of-type {\n",
       "        vertical-align: middle;\n",
       "    }\n",
       "\n",
       "    .dataframe tbody tr th {\n",
       "        vertical-align: top;\n",
       "    }\n",
       "\n",
       "    .dataframe thead th {\n",
       "        text-align: right;\n",
       "    }\n",
       "</style>\n",
       "<table border=\"1\" class=\"dataframe\">\n",
       "  <thead>\n",
       "    <tr style=\"text-align: right;\">\n",
       "      <th></th>\n",
       "      <th>Jaccard similarity</th>\n",
       "      <th>cosine similarity(using vector iteration)</th>\n",
       "      <th>cosine similarity(using numpy array)</th>\n",
       "      <th>cosine similarity(using sparse representation)</th>\n",
       "    </tr>\n",
       "  </thead>\n",
       "  <tbody>\n",
       "    <tr>\n",
       "      <th>0</th>\n",
       "      <td>0.0022</td>\n",
       "      <td>0.0001</td>\n",
       "      <td>0.0001</td>\n",
       "      <td>0.0001</td>\n",
       "    </tr>\n",
       "    <tr>\n",
       "      <th>1</th>\n",
       "      <td>0.0024</td>\n",
       "      <td>0.0002</td>\n",
       "      <td>0.0002</td>\n",
       "      <td>0.0002</td>\n",
       "    </tr>\n",
       "    <tr>\n",
       "      <th>2</th>\n",
       "      <td>0.0301</td>\n",
       "      <td>0.0697</td>\n",
       "      <td>0.0697</td>\n",
       "      <td>0.0697</td>\n",
       "    </tr>\n",
       "    <tr>\n",
       "      <th>3</th>\n",
       "      <td>0.0341</td>\n",
       "      <td>0.0865</td>\n",
       "      <td>0.0865</td>\n",
       "      <td>0.0865</td>\n",
       "    </tr>\n",
       "    <tr>\n",
       "      <th>4</th>\n",
       "      <td>0.0184</td>\n",
       "      <td>0.0156</td>\n",
       "      <td>0.0156</td>\n",
       "      <td>0.0156</td>\n",
       "    </tr>\n",
       "    <tr>\n",
       "      <th>...</th>\n",
       "      <td>...</td>\n",
       "      <td>...</td>\n",
       "      <td>...</td>\n",
       "      <td>...</td>\n",
       "    </tr>\n",
       "    <tr>\n",
       "      <th>395</th>\n",
       "      <td>0.0298</td>\n",
       "      <td>0.0333</td>\n",
       "      <td>0.0333</td>\n",
       "      <td>0.0333</td>\n",
       "    </tr>\n",
       "    <tr>\n",
       "      <th>396</th>\n",
       "      <td>0.0441</td>\n",
       "      <td>0.2263</td>\n",
       "      <td>0.2263</td>\n",
       "      <td>0.2263</td>\n",
       "    </tr>\n",
       "    <tr>\n",
       "      <th>397</th>\n",
       "      <td>0.0177</td>\n",
       "      <td>0.0070</td>\n",
       "      <td>0.0070</td>\n",
       "      <td>0.0070</td>\n",
       "    </tr>\n",
       "    <tr>\n",
       "      <th>398</th>\n",
       "      <td>0.0242</td>\n",
       "      <td>0.0241</td>\n",
       "      <td>0.0241</td>\n",
       "      <td>0.0241</td>\n",
       "    </tr>\n",
       "    <tr>\n",
       "      <th>399</th>\n",
       "      <td>0.0284</td>\n",
       "      <td>0.0455</td>\n",
       "      <td>0.0455</td>\n",
       "      <td>0.0455</td>\n",
       "    </tr>\n",
       "  </tbody>\n",
       "</table>\n",
       "<p>400 rows × 4 columns</p>\n",
       "</div>"
      ],
      "text/plain": [
       "     Jaccard similarity  cosine similarity(using vector iteration)  \\\n",
       "0                0.0022                                     0.0001   \n",
       "1                0.0024                                     0.0002   \n",
       "2                0.0301                                     0.0697   \n",
       "3                0.0341                                     0.0865   \n",
       "4                0.0184                                     0.0156   \n",
       "..                  ...                                        ...   \n",
       "395              0.0298                                     0.0333   \n",
       "396              0.0441                                     0.2263   \n",
       "397              0.0177                                     0.0070   \n",
       "398              0.0242                                     0.0241   \n",
       "399              0.0284                                     0.0455   \n",
       "\n",
       "     cosine similarity(using numpy array)  \\\n",
       "0                                  0.0001   \n",
       "1                                  0.0002   \n",
       "2                                  0.0697   \n",
       "3                                  0.0865   \n",
       "4                                  0.0156   \n",
       "..                                    ...   \n",
       "395                                0.0333   \n",
       "396                                0.2263   \n",
       "397                                0.0070   \n",
       "398                                0.0241   \n",
       "399                                0.0455   \n",
       "\n",
       "     cosine similarity(using sparse representation)  \n",
       "0                                            0.0001  \n",
       "1                                            0.0002  \n",
       "2                                            0.0697  \n",
       "3                                            0.0865  \n",
       "4                                            0.0156  \n",
       "..                                              ...  \n",
       "395                                          0.0333  \n",
       "396                                          0.2263  \n",
       "397                                          0.0070  \n",
       "398                                          0.0241  \n",
       "399                                          0.0455  \n",
       "\n",
       "[400 rows x 4 columns]"
      ]
     },
     "execution_count": 37,
     "metadata": {},
     "output_type": "execute_result"
    }
   ],
   "source": [
    "df = pd.DataFrame(data_dict)\n",
    "df"
   ]
  },
  {
   "cell_type": "markdown",
   "id": "3cc5d54e",
   "metadata": {
    "id": "3cc5d54e",
    "papermill": {
     "duration": 0.086433,
     "end_time": "2022-01-14T04:09:09.785799",
     "exception": false,
     "start_time": "2022-01-14T04:09:09.699366",
     "status": "completed"
    },
    "tags": []
   },
   "source": [
    "\n",
    "From the dataframe above we can see that there is difference between the similarity measures of jaccard and cosine implementations. We can also notice that all the different implementations of the cosine similarity gives the same values for similarity."
   ]
  },
  {
   "cell_type": "markdown",
   "id": "00dfe4d4",
   "metadata": {},
   "source": [
    "## Q 3.2) Comparison between various similarity measures"
   ]
  },
  {
   "cell_type": "code",
   "execution_count": 38,
   "id": "57491304",
   "metadata": {
    "colab": {
     "base_uri": "https://localhost:8080/",
     "height": 295
    },
    "execution": {
     "iopub.execute_input": "2022-01-14T04:09:10.339418Z",
     "iopub.status.busy": "2022-01-14T04:09:10.338313Z",
     "iopub.status.idle": "2022-01-14T04:09:10.583800Z",
     "shell.execute_reply": "2022-01-14T04:09:10.583079Z",
     "shell.execute_reply.started": "2021-12-13T17:02:44.465417Z"
    },
    "id": "57491304",
    "outputId": "267bcef6-fb1c-470c-d7af-be621848936a",
    "papermill": {
     "duration": 0.352542,
     "end_time": "2022-01-14T04:09:10.583954",
     "exception": false,
     "start_time": "2022-01-14T04:09:10.231412",
     "status": "completed"
    },
    "tags": []
   },
   "outputs": [
    {
     "data": {
      "image/png": "[encoded data removed]",
      "text/plain": [
       "<Figure size 432x288 with 1 Axes>"
      ]
     },
     "metadata": {
      "needs_background": "light"
     },
     "output_type": "display_data"
    }
   ],
   "source": [
    " plt.plot(list_len_doc_pair_list,list_jaccard_time)\n",
    " plt.plot(list_len_doc_pair_list,list_cosinesim_dot_time,'r')\n",
    " plt.plot(list_len_doc_pair_list,list_cosinenp_time,'g')\n",
    " plt.plot(list_len_doc_pair_list,list_cosinesim_sparse_time,'m')\n",
    " label = ['Jaccad time','Cosine (vector iteration)','Cosine (numpy )','Cosine (sparse)']\n",
    " plt.legend(label, loc = 1, ncol =4)\n",
    " plt.xlabel(' Document Size')\n",
    " plt.ylabel('Mean Run Time (sec)')\n",
    " plt.title('Runtime comparison b\\w various similarity measures')\n",
    " plt.show()\n"
   ]
  },
  {
   "cell_type": "markdown",
   "id": "633cd994",
   "metadata": {
    "id": "633cd994",
    "papermill": {
     "duration": 0.090041,
     "end_time": "2022-01-14T04:09:10.761113",
     "exception": false,
     "start_time": "2022-01-14T04:09:10.671072",
     "status": "completed"
    },
    "tags": []
   },
   "source": [
    "We can see from the graph above that the Cosine similarity using numpy array module has the least runtime, then followed by jaccard's algorithm which is followed by cosine sparse.\n",
    "Among all the four similarity implementations, the Cosine similarity using vector iteration will have the worst running time."
   ]
  },
  {
   "cell_type": "markdown",
   "id": "9de24182",
   "metadata": {
    "id": "9de24182",
    "papermill": {
     "duration": 0.088926,
     "end_time": "2022-01-14T04:09:11.116687",
     "exception": false,
     "start_time": "2022-01-14T04:09:11.027761",
     "status": "completed"
    },
    "tags": []
   },
   "source": [
    "## Q 4) All pair similarity for collection of documents"
   ]
  },
  {
   "cell_type": "code",
   "execution_count": 39,
   "id": "014c8356",
   "metadata": {
    "execution": {
     "iopub.execute_input": "2022-01-14T04:09:11.477812Z",
     "iopub.status.busy": "2022-01-14T04:09:11.470580Z",
     "iopub.status.idle": "2022-01-14T04:09:11.479888Z",
     "shell.execute_reply": "2022-01-14T04:09:11.480373Z",
     "shell.execute_reply.started": "2021-12-13T17:02:44.657126Z"
    },
    "id": "014c8356",
    "papermill": {
     "duration": 0.102052,
     "end_time": "2022-01-14T04:09:11.480580",
     "exception": false,
     "start_time": "2022-01-14T04:09:11.378528",
     "status": "completed"
    },
    "tags": []
   },
   "outputs": [],
   "source": [
    "def all_pair_comparison(list_of_documents, method= 'jaccard'):  #Function created to calculate the all pair similarities of the jaccards and cosine implementation.\n",
    "  all_pair_similarity = []\n",
    "  #for jaccard similarity\n",
    "  if method =='jaccard':\n",
    "    for i in list_of_documents:\n",
    "      for j in list_of_documents:\n",
    "        all_pair_similarity.append(jaccard(i,j))\n",
    "  #for cosine similarity using vector iteration      \n",
    "  if method == 'cosine_vector':\n",
    "    for i in list_of_documents:\n",
    "      for j in list_of_documents:\n",
    "        a,b = densevectors_asnparray(i,j)\n",
    "        k = cosinesim_dot(a,b)\n",
    "        all_pair_similarity.append(k)\n",
    "  #for cosine similarity using numpy dot operation\n",
    "  if method == 'cosine_numpy':\n",
    "    for i in list_of_documents:\n",
    "      for j in list_of_documents:\n",
    "        a,b = densevectors_asnparray(i,j)\n",
    "        k = cosinesim_numpy(a,b)\n",
    "        all_pair_similarity.append(k)\n",
    "  #for cosine similarity using sparse dictionaries\n",
    "  if method == 'cosine_sparse':\n",
    "    for i in list_of_documents:\n",
    "      for j in list_of_documents:\n",
    "        k = cosinesim_sparse(i,j)\n",
    "        all_pair_similarity.append(k)\n",
    "\n",
    "\n",
    "  return all_pair_similarity\n",
    "\n",
    "\n"
   ]
  },
  {
   "cell_type": "markdown",
   "id": "e85d0284",
   "metadata": {
    "id": "e85d0284",
    "papermill": {
     "duration": 0.087119,
     "end_time": "2022-01-14T04:09:11.655236",
     "exception": false,
     "start_time": "2022-01-14T04:09:11.568117",
     "status": "completed"
    },
    "tags": []
   },
   "source": [
    "## Q 4.1) The theoretical worst case run time for the compution of all-pair similariy\n",
    "\n",
    "when we run the all-pair similarity we have a nested loop for iterating through all the documents vs all the documents, which would have the time complexity of $O(n^2)$.\n",
    "The inner loop then the corresponding similarity measure $O(n)$ has to run.\n",
    "\n",
    "Hence, the time complexity of all-pair similarity would depend on the size of the list of dictionaries and the size of individual dictionary in the list.\n",
    "\n",
    "Assuming the size of individual dictionary to be similar to the size of the list of dictionaries, we can understand that the worst case time complexity for all the similarity measures we considered except cosine similarity implementation using numpy module will be $\\longrightarrow$ $O(n^3)$"
   ]
  },
  {
   "cell_type": "markdown",
   "id": "0387e6c0",
   "metadata": {},
   "source": [
    "## Q 4.1) The Emperical worst case run time analysis for the compution of all-pair similariy"
   ]
  },
  {
   "cell_type": "code",
   "execution_count": 40,
   "id": "446963d0",
   "metadata": {
    "execution": {
     "iopub.execute_input": "2022-01-14T04:09:11.885211Z",
     "iopub.status.busy": "2022-01-14T04:09:11.848272Z",
     "iopub.status.idle": "2022-01-14T04:09:11.892293Z",
     "shell.execute_reply": "2022-01-14T04:09:11.891665Z",
     "shell.execute_reply.started": "2021-12-13T17:02:44.66623Z"
    },
    "id": "446963d0",
    "papermill": {
     "duration": 0.147022,
     "end_time": "2022-01-14T04:09:11.892438",
     "exception": false,
     "start_time": "2022-01-14T04:09:11.745416",
     "status": "completed"
    },
    "tags": []
   },
   "outputs": [],
   "source": [
    "# created a list of 16 documents with each dictionary has a bag size of 1000\n",
    "all_pair_doc_list = doc_creation(1000,16)"
   ]
  },
  {
   "cell_type": "code",
   "execution_count": 41,
   "id": "3523a1d2",
   "metadata": {
    "colab": {
     "base_uri": "https://localhost:8080/"
    },
    "execution": {
     "iopub.execute_input": "2022-01-14T04:09:12.072674Z",
     "iopub.status.busy": "2022-01-14T04:09:12.071664Z",
     "iopub.status.idle": "2022-01-14T04:09:12.642456Z",
     "shell.execute_reply": "2022-01-14T04:09:12.643135Z",
     "shell.execute_reply.started": "2021-12-13T17:02:44.712645Z"
    },
    "id": "3523a1d2",
    "outputId": "5ca7b517-a805-40a0-8756-0e0b46f62e13",
    "papermill": {
     "duration": 0.662927,
     "end_time": "2022-01-14T04:09:12.643319",
     "exception": false,
     "start_time": "2022-01-14T04:09:11.980392",
     "status": "completed"
    },
    "tags": []
   },
   "outputs": [
    {
     "data": {
      "text/plain": [
       "[1.0,\n",
       " 0.0015,\n",
       " 0.0015,\n",
       " 0.0009,\n",
       " 0.0011,\n",
       " 0.0512,\n",
       " 0.0006,\n",
       " 0.0068,\n",
       " 0.0031,\n",
       " 0.0002,\n",
       " 0.0009,\n",
       " 0.0033,\n",
       " 0.0,\n",
       " 0.0,\n",
       " 0.0001,\n",
       " 0.0015,\n",
       " 0.0015,\n",
       " 1.0,\n",
       " 0.0033,\n",
       " 0.0129,\n",
       " 0.0008,\n",
       " 0.0034,\n",
       " 0.0052,\n",
       " 0.0337,\n",
       " 0.026,\n",
       " 0.0045,\n",
       " 0.0015,\n",
       " 0.0055,\n",
       " 0.0035,\n",
       " 0.0,\n",
       " 0.0584,\n",
       " 0.0074,\n",
       " 0.0015,\n",
       " 0.0033,\n",
       " 1.0,\n",
       " 0.0017,\n",
       " 0.0,\n",
       " 0.0016,\n",
       " 0.0004,\n",
       " 0.0215,\n",
       " 0.0022,\n",
       " 0.6396,\n",
       " 0.0009,\n",
       " 0.1092,\n",
       " 0.0,\n",
       " 0.0031,\n",
       " 0.0007,\n",
       " 0.0022,\n",
       " 0.0009,\n",
       " 0.0129,\n",
       " 0.0017,\n",
       " 1.0,\n",
       " 0.0007,\n",
       " 0.0561,\n",
       " 0.0573,\n",
       " 0.0425,\n",
       " 0.0006,\n",
       " 0.0782,\n",
       " 0.0205,\n",
       " 0.0165,\n",
       " 0.0009,\n",
       " 0.0029,\n",
       " 0.0106,\n",
       " 0.0002,\n",
       " 0.0011,\n",
       " 0.0008,\n",
       " 0.0,\n",
       " 0.0007,\n",
       " 1.0,\n",
       " 0.0458,\n",
       " 0.0864,\n",
       " 0.0031,\n",
       " 0.0047,\n",
       " 0.0017,\n",
       " 0.0014,\n",
       " 0.0062,\n",
       " 0.0011,\n",
       " 0.0,\n",
       " 0.0012,\n",
       " 0.0002,\n",
       " 0.0512,\n",
       " 0.0034,\n",
       " 0.0016,\n",
       " 0.0561,\n",
       " 0.0458,\n",
       " 1.0,\n",
       " 0.0023,\n",
       " 0.0054,\n",
       " 0.0018,\n",
       " 0.0003,\n",
       " 0.0003,\n",
       " 0.0027,\n",
       " 0.0021,\n",
       " 0.0064,\n",
       " 0.0672,\n",
       " 0.0,\n",
       " 0.0006,\n",
       " 0.0052,\n",
       " 0.0004,\n",
       " 0.0573,\n",
       " 0.0864,\n",
       " 0.0023,\n",
       " 1.0,\n",
       " 0.0003,\n",
       " 0.0001,\n",
       " 0.0004,\n",
       " 0.0199,\n",
       " 0.0034,\n",
       " 0.0,\n",
       " 0.0002,\n",
       " 0.0,\n",
       " 0.0002,\n",
       " 0.0068,\n",
       " 0.0337,\n",
       " 0.0215,\n",
       " 0.0425,\n",
       " 0.0031,\n",
       " 0.0054,\n",
       " 0.0003,\n",
       " 1.0,\n",
       " 0.001,\n",
       " 0.0012,\n",
       " 0.0015,\n",
       " 0.0211,\n",
       " 0.0064,\n",
       " 0.0008,\n",
       " 0.0186,\n",
       " 0.0083,\n",
       " 0.0031,\n",
       " 0.026,\n",
       " 0.0022,\n",
       " 0.0006,\n",
       " 0.0047,\n",
       " 0.0018,\n",
       " 0.0001,\n",
       " 0.001,\n",
       " 1.0,\n",
       " 0.0002,\n",
       " 0.0032,\n",
       " 0.0003,\n",
       " 0.0001,\n",
       " 0.0006,\n",
       " 0.0014,\n",
       " 0.0001,\n",
       " 0.0002,\n",
       " 0.0045,\n",
       " 0.6396,\n",
       " 0.0782,\n",
       " 0.0017,\n",
       " 0.0003,\n",
       " 0.0004,\n",
       " 0.0012,\n",
       " 0.0002,\n",
       " 1.0,\n",
       " 0.0122,\n",
       " 0.0029,\n",
       " 0.0003,\n",
       " 0.0002,\n",
       " 0.0139,\n",
       " 0.0003,\n",
       " 0.0009,\n",
       " 0.0015,\n",
       " 0.0009,\n",
       " 0.0205,\n",
       " 0.0014,\n",
       " 0.0003,\n",
       " 0.0199,\n",
       " 0.0015,\n",
       " 0.0032,\n",
       " 0.0122,\n",
       " 1.0,\n",
       " 0.0024,\n",
       " 0.0041,\n",
       " 0.0007,\n",
       " 0.0004,\n",
       " 0.0001,\n",
       " 0.0033,\n",
       " 0.0055,\n",
       " 0.1092,\n",
       " 0.0165,\n",
       " 0.0062,\n",
       " 0.0027,\n",
       " 0.0034,\n",
       " 0.0211,\n",
       " 0.0003,\n",
       " 0.0029,\n",
       " 0.0024,\n",
       " 1.0,\n",
       " 0.0,\n",
       " 0.0006,\n",
       " 0.0162,\n",
       " 0.005,\n",
       " 0.0,\n",
       " 0.0035,\n",
       " 0.0,\n",
       " 0.0009,\n",
       " 0.0011,\n",
       " 0.0021,\n",
       " 0.0,\n",
       " 0.0064,\n",
       " 0.0001,\n",
       " 0.0003,\n",
       " 0.0041,\n",
       " 0.0,\n",
       " 1.0,\n",
       " 0.986,\n",
       " 0.0001,\n",
       " 0.9852,\n",
       " 0.0,\n",
       " 0.0,\n",
       " 0.0031,\n",
       " 0.0029,\n",
       " 0.0,\n",
       " 0.0064,\n",
       " 0.0002,\n",
       " 0.0008,\n",
       " 0.0006,\n",
       " 0.0002,\n",
       " 0.0007,\n",
       " 0.0006,\n",
       " 0.986,\n",
       " 1.0,\n",
       " 0.0,\n",
       " 0.9841,\n",
       " 0.0001,\n",
       " 0.0584,\n",
       " 0.0007,\n",
       " 0.0106,\n",
       " 0.0012,\n",
       " 0.0672,\n",
       " 0.0,\n",
       " 0.0186,\n",
       " 0.0014,\n",
       " 0.0139,\n",
       " 0.0004,\n",
       " 0.0162,\n",
       " 0.0001,\n",
       " 0.0,\n",
       " 1.0,\n",
       " 0.0001,\n",
       " 0.0015,\n",
       " 0.0074,\n",
       " 0.0022,\n",
       " 0.0002,\n",
       " 0.0002,\n",
       " 0.0,\n",
       " 0.0002,\n",
       " 0.0083,\n",
       " 0.0001,\n",
       " 0.0003,\n",
       " 0.0001,\n",
       " 0.005,\n",
       " 0.9852,\n",
       " 0.9841,\n",
       " 0.0001,\n",
       " 1.0]"
      ]
     },
     "execution_count": 41,
     "metadata": {},
     "output_type": "execute_result"
    }
   ],
   "source": [
    "# Here the method can be changed to other similarity methods and all pair similarity for different methods can be found for the 'all_pair_doc_list'\n",
    "all_pair_comparison(all_pair_doc_list,method = 'cosine_numpy')"
   ]
  },
  {
   "cell_type": "code",
   "execution_count": 42,
   "id": "d4a86207",
   "metadata": {
    "execution": {
     "iopub.execute_input": "2022-01-14T04:09:12.829833Z",
     "iopub.status.busy": "2022-01-14T04:09:12.828782Z",
     "iopub.status.idle": "2022-01-14T04:09:13.549962Z",
     "shell.execute_reply": "2022-01-14T04:09:13.549380Z",
     "shell.execute_reply.started": "2021-12-13T17:02:45.081244Z"
    },
    "id": "d4a86207",
    "papermill": {
     "duration": 0.816135,
     "end_time": "2022-01-14T04:09:13.550125",
     "exception": false,
     "start_time": "2022-01-14T04:09:12.733990",
     "status": "completed"
    },
    "tags": []
   },
   "outputs": [],
   "source": [
    "#genereates a list of list of dictionaries where the lenght of individual dictionary is same as the size of list of dictionary\n",
    "list_of_list_all_pair_doc = []\n",
    "for i in range(50,65):\n",
    "  list_of_list_all_pair_doc.append(doc_creation(i,i))"
   ]
  },
  {
   "cell_type": "code",
   "execution_count": 43,
   "id": "2c664375",
   "metadata": {
    "execution": {
     "iopub.execute_input": "2022-01-14T04:09:13.740400Z",
     "iopub.status.busy": "2022-01-14T04:09:13.739619Z",
     "iopub.status.idle": "2022-01-14T04:11:01.780735Z",
     "shell.execute_reply": "2022-01-14T04:11:01.781286Z",
     "shell.execute_reply.started": "2021-12-13T17:02:45.755229Z"
    },
    "id": "2c664375",
    "papermill": {
     "duration": 108.140736,
     "end_time": "2022-01-14T04:11:01.781477",
     "exception": false,
     "start_time": "2022-01-14T04:09:13.640741",
     "status": "completed"
    },
    "tags": []
   },
   "outputs": [],
   "source": [
    "#The run time of all pair similarity  using jaccard's similarity for list of list of dictionaries is stored in 'list_of_list_all_pair_run_time'\n",
    "list_of_list_all_pair_run_time =[]\n",
    "for i in range(len(list_of_list_all_pair_doc)):\n",
    "  k = time_it(all_pair_comparison,list_of_list_all_pair_doc[i])\n",
    "  list_of_list_all_pair_run_time.append(k)"
   ]
  },
  {
   "cell_type": "code",
   "execution_count": 44,
   "id": "350ca64e",
   "metadata": {
    "colab": {
     "base_uri": "https://localhost:8080/",
     "height": 237
    },
    "execution": {
     "iopub.execute_input": "2022-01-14T04:11:01.964533Z",
     "iopub.status.busy": "2022-01-14T04:11:01.963445Z",
     "iopub.status.idle": "2022-01-14T04:11:02.321984Z",
     "shell.execute_reply": "2022-01-14T04:11:02.322493Z",
     "shell.execute_reply.started": "2021-12-13T17:04:03.770557Z"
    },
    "id": "350ca64e",
    "outputId": "6329e19e-76a7-4a70-83bf-851263f526a3",
    "papermill": {
     "duration": 0.45225,
     "end_time": "2022-01-14T04:11:02.322720",
     "exception": false,
     "start_time": "2022-01-14T04:11:01.870470",
     "status": "completed"
    },
    "tags": []
   },
   "outputs": [
    {
     "data": {
      "image/png": "[encoded data removed]",
      "text/plain": [
       "<Figure size 432x288 with 2 Axes>"
      ]
     },
     "metadata": {
      "needs_background": "light"
     },
     "output_type": "display_data"
    }
   ],
   "source": [
    "y = list_of_list_all_pair_run_time\n",
    "x = range(50,65)\n",
    "\n",
    "plt.subplots_adjust(1,0,2.5,0.5)\n",
    "plt.subplot(121)\n",
    "plt.plot(x,y)\n",
    "plt.xlabel('Len of list of documents')\n",
    "plt.ylabel('Run time of all-pair similarity (s)')\n",
    "plt.title('Runtime of all pair similarity for \\n Jaccards')\n",
    "\n",
    "plt.subplot(122)\n",
    "logx = np.log10(x)\n",
    "logy = np.log10(y)\n",
    "plt.scatter(logx,logy)\n",
    "plt.xlabel('log len of list of documents')\n",
    "plt.ylabel('log run time of all-pair similarity (s)')\n",
    "plt.title('log Runtime of all pair similarity for \\n Jaccards')\n",
    "\n",
    "plt.show()"
   ]
  },
  {
   "cell_type": "code",
   "execution_count": 45,
   "id": "a1d95b55",
   "metadata": {
    "colab": {
     "base_uri": "https://localhost:8080/"
    },
    "execution": {
     "iopub.execute_input": "2022-01-14T04:11:02.507928Z",
     "iopub.status.busy": "2022-01-14T04:11:02.507016Z",
     "iopub.status.idle": "2022-01-14T04:11:02.512223Z",
     "shell.execute_reply": "2022-01-14T04:11:02.511464Z",
     "shell.execute_reply.started": "2021-12-13T17:04:04.016261Z"
    },
    "id": "a1d95b55",
    "outputId": "dccf78ce-6c81-4af1-8216-f1a8b677978e",
    "papermill": {
     "duration": 0.099921,
     "end_time": "2022-01-14T04:11:02.512592",
     "exception": false,
     "start_time": "2022-01-14T04:11:02.412671",
     "status": "completed"
    },
    "tags": []
   },
   "outputs": [
    {
     "name": "stdout",
     "output_type": "stream",
     "text": [
      "The slope is 3.036919303604571 and the constant for the computation is 2.1137736545294483e-07\n"
     ]
    }
   ],
   "source": [
    "slope, intercept, r_value, p_value , std_err = stats.linregress(logx,logy)\n",
    "constant = np.power(10, intercept)\n",
    "print('The slope is {} and the constant for the computation is {}'.format(slope,constant))"
   ]
  },
  {
   "cell_type": "markdown",
   "id": "9702924c",
   "metadata": {
    "id": "9702924c",
    "papermill": {
     "duration": 0.088988,
     "end_time": "2022-01-14T04:11:02.692331",
     "exception": false,
     "start_time": "2022-01-14T04:11:02.603343",
     "status": "completed"
    },
    "tags": []
   },
   "source": [
    "The emperical analysis shows that, for time complexity of all-pair similarity using Jaccard's method the  $\\alpha \\, \\approx 3.0  $ and  $C_a \\approx 10^{-7} \\implies$ that the worst case time complexity of all-pair similarity is $\\longrightarrow O(n^{3.0})$  this justifies our theoretical worst case run time prediction.\n"
   ]
  },
  {
   "cell_type": "code",
   "execution_count": 46,
   "id": "293d1fd7",
   "metadata": {
    "execution": {
     "iopub.execute_input": "2022-01-14T04:11:02.891828Z",
     "iopub.status.busy": "2022-01-14T04:11:02.891071Z",
     "iopub.status.idle": "2022-01-14T04:15:04.288571Z",
     "shell.execute_reply": "2022-01-14T04:15:04.287919Z",
     "shell.execute_reply.started": "2021-12-13T17:04:04.026033Z"
    },
    "id": "293d1fd7",
    "papermill": {
     "duration": 241.504728,
     "end_time": "2022-01-14T04:15:04.288738",
     "exception": false,
     "start_time": "2022-01-14T04:11:02.784010",
     "status": "completed"
    },
    "tags": []
   },
   "outputs": [],
   "source": [
    "list_of_list_all_pair_run_time_cosine =[]\n",
    "for i in range(len(list_of_list_all_pair_doc)):\n",
    "  k = time_it(all_pair_comparison,list_of_list_all_pair_doc[i],method = 'cosine_sparse')\n",
    "  list_of_list_all_pair_run_time_cosine.append(k)"
   ]
  },
  {
   "cell_type": "code",
   "execution_count": 47,
   "id": "b9cebe2b",
   "metadata": {
    "colab": {
     "base_uri": "https://localhost:8080/",
     "height": 237
    },
    "execution": {
     "iopub.execute_input": "2022-01-14T04:15:04.517669Z",
     "iopub.status.busy": "2022-01-14T04:15:04.512157Z",
     "iopub.status.idle": "2022-01-14T04:15:04.824990Z",
     "shell.execute_reply": "2022-01-14T04:15:04.825454Z",
     "shell.execute_reply.started": "2021-12-13T17:06:56.015371Z"
    },
    "id": "b9cebe2b",
    "outputId": "31d80d72-9053-4399-929b-6b04152f650b",
    "papermill": {
     "duration": 0.443009,
     "end_time": "2022-01-14T04:15:04.825654",
     "exception": false,
     "start_time": "2022-01-14T04:15:04.382645",
     "status": "completed"
    },
    "tags": []
   },
   "outputs": [
    {
     "data": {
      "image/png": "[encoded data removed]",
      "text/plain": [
       "<Figure size 432x288 with 2 Axes>"
      ]
     },
     "metadata": {
      "needs_background": "light"
     },
     "output_type": "display_data"
    }
   ],
   "source": [
    "y = list_of_list_all_pair_run_time_cosine\n",
    "x = list(range(50,65))\n",
    "\n",
    "plt.subplots_adjust(1,0,2.5,0.5)\n",
    "\n",
    "plt.subplot(121)\n",
    "plt.plot(x,y,'g')\n",
    "plt.ylabel('Runtime of all-pair similarity (s)')\n",
    "plt.xlabel('lenght of list of documents')\n",
    "plt.title('Runtime for all pair similarity for \\n cosine')\n",
    "plt.subplot(122)\n",
    "\n",
    "logx = np.log10(x)\n",
    "logy = np.log10(y)\n",
    "\n",
    "plt.scatter(x,y)\n",
    "plt.xlabel('log of lenght of documents')\n",
    "plt.ylabel('log Runtime of all-pair similarity (s)')\n",
    "plt.title(' log Runtime for all pair similarity for \\n cosine')\n",
    "plt.show()"
   ]
  },
  {
   "cell_type": "code",
   "execution_count": 48,
   "id": "6aa9171b",
   "metadata": {
    "colab": {
     "base_uri": "https://localhost:8080/"
    },
    "execution": {
     "iopub.execute_input": "2022-01-14T04:15:05.014546Z",
     "iopub.status.busy": "2022-01-14T04:15:05.013573Z",
     "iopub.status.idle": "2022-01-14T04:15:05.021072Z",
     "shell.execute_reply": "2022-01-14T04:15:05.021549Z",
     "shell.execute_reply.started": "2021-12-13T17:06:56.271157Z"
    },
    "id": "6aa9171b",
    "outputId": "a2d2948c-9385-4cb1-946e-f7ea01596cc3",
    "papermill": {
     "duration": 0.103299,
     "end_time": "2022-01-14T04:15:05.021880",
     "exception": false,
     "start_time": "2022-01-14T04:15:04.918581",
     "status": "completed"
    },
    "tags": []
   },
   "outputs": [
    {
     "name": "stdout",
     "output_type": "stream",
     "text": [
      "The slope is 2.8627755633581424 and the constant for the computation is 9.107434066397252e-07\n"
     ]
    }
   ],
   "source": [
    "slope , intercept, r_value, p_value, std_err = stats.linregress(logx, logy)\n",
    "constant = np.power(10,intercept)\n",
    "print('The slope is {} and the constant for the computation is {}'.format(slope , constant))"
   ]
  },
  {
   "cell_type": "markdown",
   "id": "e9601f5f",
   "metadata": {
    "id": "e9601f5f",
    "papermill": {
     "duration": 0.091193,
     "end_time": "2022-01-14T04:15:05.206303",
     "exception": false,
     "start_time": "2022-01-14T04:15:05.115110",
     "status": "completed"
    },
    "tags": []
   },
   "source": [
    "The emperical analysis of all-pair time complexity for cosine similarity with sparse representation the $\\alpha \\, \\approx 2.9  $ and  $C_a \\approx 10^{-7} \\implies$ the worst case time complexity of all-pair similarity is $\\longrightarrow O(n^{2.9})$ which justifies the theoretical worst case runtime prediction."
   ]
  },
  {
   "cell_type": "code",
   "execution_count": 49,
   "id": "018e093e",
   "metadata": {
    "colab": {
     "base_uri": "https://localhost:8080/",
     "height": 295
    },
    "execution": {
     "iopub.execute_input": "2022-01-14T04:15:05.401112Z",
     "iopub.status.busy": "2022-01-14T04:15:05.400360Z",
     "iopub.status.idle": "2022-01-14T04:15:05.640233Z",
     "shell.execute_reply": "2022-01-14T04:15:05.639625Z",
     "shell.execute_reply.started": "2021-12-13T17:06:56.279026Z"
    },
    "id": "018e093e",
    "outputId": "5760b4f7-1dde-4c6a-c467-b088a365860d",
    "papermill": {
     "duration": 0.34155,
     "end_time": "2022-01-14T04:15:05.640379",
     "exception": false,
     "start_time": "2022-01-14T04:15:05.298829",
     "status": "completed"
    },
    "tags": []
   },
   "outputs": [
    {
     "data": {
      "image/png": "[encoded data removed]",
      "text/plain": [
       "<Figure size 432x288 with 1 Axes>"
      ]
     },
     "metadata": {
      "needs_background": "light"
     },
     "output_type": "display_data"
    }
   ],
   "source": [
    "plt.plot(list(range(50,65)),list_of_list_all_pair_run_time)\n",
    "plt.plot(list(range(50,65)),list_of_list_all_pair_run_time_cosine,'g')\n",
    "plt.ylabel('mean run time for all-pair similarity')\n",
    "plt.xlabel('len of list of dictionaries')\n",
    "label = ['Jaccard all-pair', 'cosine_sparse all-pair']\n",
    "plt.title('comparison between jaccard and cosine runtime for all pair similariy')\n",
    "plt.legend(label, loc =1 , ncol = 2)\n",
    "plt.show()"
   ]
  },
  {
   "cell_type": "markdown",
   "id": "3dd1335b",
   "metadata": {
    "id": "3dd1335b",
    "papermill": {
     "duration": 0.092627,
     "end_time": "2022-01-14T04:15:05.826318",
     "exception": false,
     "start_time": "2022-01-14T04:15:05.733691",
     "status": "completed"
    },
    "tags": []
   },
   "source": [
    "\n",
    "The graph above makes it evident that when there is a smaller list of list of dictionaries, cosine sparse implementation takes more time when compared to jaccards similarity."
   ]
  },
  {
   "cell_type": "markdown",
   "id": "d2bcbc02",
   "metadata": {
    "id": "d2bcbc02",
    "papermill": {
     "duration": 0.093518,
     "end_time": "2022-01-14T04:15:06.014164",
     "exception": false,
     "start_time": "2022-01-14T04:15:05.920646",
     "status": "completed"
    },
    "tags": []
   },
   "source": [
    "## Q 4.2) RunTime prediction for running all-pair similarity for 200k documents\n",
    "We can find the runtime by substituting the 200 K documents into the equations obtained for both Jaccard's Similarity and cosine sparse implementation.\n",
    "\n",
    "### If individual document size is also in the order of 200k:\n",
    "\n",
    "If we use jaccard's similarity then substituting into the algorithm we will be able to see: $y \\approx 10^{-7} 200000^{3.1} \\implies 2.7\\times 10^{9}s$\n",
    " Alternatly if we use the cosine_sparse method, we would be getting: $y \\approx 10^{-6} 200000^{2.9} \\implies 2.36\\times  10^{8}s$ $\\longrightarrow$ But in case of cosine sparse, the slope of the cosine sparse increases as the lenght of list of   list increases hence the probabilty of this value being wrong is high.\n",
    "\n",
    "### If we consider very small individual document size when compared to 200k documents:\n",
    "The time complexity would be $\\approx O(n^2)$ \n",
    " If Jaccard's algorithm is used then it would be: $y \\approx 10^{-7} 200000^{2} \\implies 4\\times 10^{3}s$\n",
    " When the cosine_sparse method is used, we get: $y \\approx 10^{-6} 200000^{2} \\implies 4\\times 10^{4} s$ "
   ]
  },
  {
   "cell_type": "markdown",
   "id": "0132a1f7",
   "metadata": {
    "id": "0132a1f7",
    "papermill": {
     "duration": 0.095543,
     "end_time": "2022-01-14T04:15:06.389086",
     "exception": false,
     "start_time": "2022-01-14T04:15:06.293543",
     "status": "completed"
    },
    "tags": []
   },
   "source": [
    "\n",
    "\n",
    "## Q 5) Map Reduce paradigm\n",
    "\n",
    "For Map reduce paradigm Google collab was used by me since it assigned only 2 cores. Hence, the total number of mappers and reducers should be 2, so we will have to assign 1 mapper and 1 reducer functions/proccesses."
   ]
  },
  {
   "cell_type": "markdown",
   "id": "827e9ef8",
   "metadata": {},
   "source": [
    "Please note the following codes were run on Google collab, since interactive Python doesn't play well with multiprocessing on Windows."
   ]
  },
  {
   "cell_type": "markdown",
   "id": "ac215c0b",
   "metadata": {
    "id": "ead3383c",
    "papermill": {
     "duration": 0.093913,
     "end_time": "2022-01-14T04:15:06.201334",
     "exception": false,
     "start_time": "2022-01-14T04:15:06.107421",
     "status": "completed"
    },
    "tags": []
   },
   "source": [
    "## Q 5.1) All pair similarity for Jaccard using parallel processing (Map Reduce Paradigm)"
   ]
  },
  {
   "cell_type": "code",
   "execution_count": 50,
   "id": "383a9a4c",
   "metadata": {
    "colab": {
     "base_uri": "https://localhost:8080/"
    },
    "execution": {
     "iopub.execute_input": "2022-01-14T04:15:06.581689Z",
     "iopub.status.busy": "2022-01-14T04:15:06.580767Z",
     "iopub.status.idle": "2022-01-14T04:15:06.585765Z",
     "shell.execute_reply": "2022-01-14T04:15:06.586363Z",
     "shell.execute_reply.started": "2021-12-13T17:06:56.459394Z"
    },
    "id": "383a9a4c",
    "outputId": "cc7b3254-de53-49de-bf2e-4043f564ca6c",
    "papermill": {
     "duration": 0.103608,
     "end_time": "2022-01-14T04:15:06.586577",
     "exception": false,
     "start_time": "2022-01-14T04:15:06.482969",
     "status": "completed"
    },
    "tags": []
   },
   "outputs": [
    {
     "data": {
      "text/plain": [
       "16"
      ]
     },
     "execution_count": 50,
     "metadata": {},
     "output_type": "execute_result"
    }
   ],
   "source": [
    "import multiprocessing\n",
    "\n",
    "cores = multiprocessing.cpu_count()\n",
    "cores"
   ]
  },
  {
   "cell_type": "code",
   "execution_count": 1,
   "id": "c7e833d8",
   "metadata": {},
   "outputs": [
    {
     "ename": "ModuleNotFoundError",
     "evalue": "No module named 'functions_assign'",
     "output_type": "error",
     "traceback": [
      "\u001b[1;31m---------------------------------------------------------------------------\u001b[0m",
      "\u001b[1;31mModuleNotFoundError\u001b[0m                       Traceback (most recent call last)",
      "Input \u001b[1;32mIn [1]\u001b[0m, in \u001b[0;36m<cell line: 2>\u001b[1;34m()\u001b[0m\n\u001b[0;32m      1\u001b[0m \u001b[38;5;66;03m#I have created a seperate .py file named functions so that we can import the map reduce functions in them. but unfortunatly, the code has high runtime.\u001b[39;00m\n\u001b[1;32m----> 2\u001b[0m \u001b[38;5;28;01mfrom\u001b[39;00m \u001b[38;5;21;01mfunctions_assign\u001b[39;00m\u001b[38;5;21;01m.\u001b[39;00m\u001b[38;5;21;01mpy\u001b[39;00m \u001b[38;5;28;01mimport\u001b[39;00m \u001b[38;5;241m*\u001b[39m\n",
      "\u001b[1;31mModuleNotFoundError\u001b[0m: No module named 'functions_assign'"
     ]
    }
   ],
   "source": [
    "#I have created a seperate .py file named functions so that we can import the map reduce functions in them. but unfortunatly, the code has high runtime.\n",
    "from functions_assign.py import *"
   ]
  },
  {
   "cell_type": "code",
   "execution_count": 52,
   "id": "2a60e77f",
   "metadata": {
    "execution": {
     "iopub.execute_input": "2022-01-14T04:15:06.778719Z",
     "iopub.status.busy": "2022-01-14T04:15:06.777929Z",
     "iopub.status.idle": "2022-01-14T04:15:06.783941Z",
     "shell.execute_reply": "2022-01-14T04:15:06.784587Z",
     "shell.execute_reply.started": "2021-12-13T17:06:56.468037Z"
    },
    "id": "2a60e77f",
    "papermill": {
     "duration": 0.105318,
     "end_time": "2022-01-14T04:15:06.784806",
     "exception": false,
     "start_time": "2022-01-14T04:15:06.679488",
     "status": "completed"
    },
    "tags": []
   },
   "outputs": [],
   "source": [
    "\n",
    "# the mapper function for the map-reduce implementation\n",
    "def Mapper_all_pair_jaccard(doc_):\n",
    "  list_output = []\n",
    "  (i,j,doc_i,doc_j) = doc_\n",
    "  \n",
    "\n",
    "  similarity_ = jaccard(doc_i,doc_j)\n",
    "  list_output.append(((i,j),similarity_))\n",
    "  return list_output"
   ]
  },
  {
   "cell_type": "code",
   "execution_count": 53,
   "id": "c36072ca",
   "metadata": {
    "execution": {
     "iopub.execute_input": "2022-01-14T04:15:06.977387Z",
     "iopub.status.busy": "2022-01-14T04:15:06.976660Z",
     "iopub.status.idle": "2022-01-14T04:15:06.983841Z",
     "shell.execute_reply": "2022-01-14T04:15:06.984478Z",
     "shell.execute_reply.started": "2021-12-13T17:06:56.478228Z"
    },
    "id": "c36072ca",
    "papermill": {
     "duration": 0.105768,
     "end_time": "2022-01-14T04:15:06.984696",
     "exception": false,
     "start_time": "2022-01-14T04:15:06.878928",
     "status": "completed"
    },
    "tags": []
   },
   "outputs": [],
   "source": [
    "def map_reduce_parallel(inputs,mapper,reducer,mapprocesses=1,reduceprocesses=1):\n",
    "    \n",
    "    collector=defaultdict(list)  #this is the dictionary where we will be storing intermediate results\n",
    "                                 #it will map keys to lists of values (default value of a list is [])\n",
    "    \n",
    "    mappool = Pool(processes=mapprocesses)\n",
    "    #map stage\n",
    "    \n",
    "    mapresults=mappool.map(mapper,inputs)\n",
    "    mappool.close()\n",
    "    \n",
    "    for mapresult in mapresults:\n",
    "        for (key, value) in mapresult:     #pass each input to the mapper function and receive back each key,value pair yielded\n",
    "            collector[key].append(value)     #append the value to the list for that key in the intermediate store\n",
    "            \n",
    "    #reduce stage \n",
    "    outputs=[]\n",
    "    reducepool = Pool(processes=reduceprocesses)\n",
    "    \n",
    "    reduceresults=reducepool.map(reducer,collector.items())\n",
    "    reducepool.close()\n",
    "    for reduceresult in reduceresults:\n",
    "        outputs+=reduceresult\n",
    "   \n",
    "    return outputs"
   ]
  },
  {
   "cell_type": "code",
   "execution_count": 54,
   "id": "c2e32553",
   "metadata": {
    "execution": {
     "iopub.execute_input": "2022-01-14T04:15:07.178004Z",
     "iopub.status.busy": "2022-01-14T04:15:07.177232Z",
     "iopub.status.idle": "2022-01-14T04:15:07.180496Z",
     "shell.execute_reply": "2022-01-14T04:15:07.179954Z",
     "shell.execute_reply.started": "2021-12-13T17:06:56.49097Z"
    },
    "id": "c2e32553",
    "papermill": {
     "duration": 0.101738,
     "end_time": "2022-01-14T04:15:07.180659",
     "exception": false,
     "start_time": "2022-01-14T04:15:07.078921",
     "status": "completed"
    },
    "tags": []
   },
   "outputs": [],
   "source": [
    "#The reducer function for the map-reduce implementation\n",
    "def reducer_all_pair(item):\n",
    "  (keys,values) = item\n",
    "  output_reducer = [(keys,values)]\n",
    "  return (output_reducer)"
   ]
  },
  {
   "cell_type": "code",
   "execution_count": 55,
   "id": "cfaf20db",
   "metadata": {
    "execution": {
     "iopub.execute_input": "2022-01-14T04:15:07.376211Z",
     "iopub.status.busy": "2022-01-14T04:15:07.375001Z",
     "iopub.status.idle": "2022-01-14T04:15:07.378432Z",
     "shell.execute_reply": "2022-01-14T04:15:07.377863Z",
     "shell.execute_reply.started": "2021-12-13T17:06:56.512694Z"
    },
    "id": "cfaf20db",
    "papermill": {
     "duration": 0.103799,
     "end_time": "2022-01-14T04:15:07.378597",
     "exception": false,
     "start_time": "2022-01-14T04:15:07.274798",
     "status": "completed"
    },
    "tags": []
   },
   "outputs": [],
   "source": [
    "def mapreduce_allpair_jaccard (all_pair_docc_list):\n",
    "  mapper_iterator = []\n",
    "  for i in range(len(all_pair_docc_list)):\n",
    "    for j in range (len(all_pair_docc_list)):\n",
    "      mapper_iterator.append((i,j,all_pair_docc_list[i],all_pair_docc_list[j]))\n",
    "\n",
    "  return map_reduce_parallel(mapper_iterator,Mapper_all_pair_jaccard,reducer_all_pair)"
   ]
  },
  {
   "cell_type": "code",
   "execution_count": null,
   "id": "4cca3df0",
   "metadata": {
    "execution": {
     "iopub.execute_input": "2022-01-14T04:15:07.569007Z",
     "iopub.status.busy": "2022-01-14T04:15:07.568236Z",
     "iopub.status.idle": "2022-01-14T04:15:07.787854Z",
     "shell.execute_reply": "2022-01-14T04:15:07.788800Z",
     "shell.execute_reply.started": "2021-12-13T17:06:56.525722Z"
    },
    "id": "4cca3df0",
    "papermill": {
     "duration": 0.317619,
     "end_time": "2022-01-14T04:15:07.789060",
     "exception": false,
     "start_time": "2022-01-14T04:15:07.471441",
     "status": "completed"
    },
    "tags": []
   },
   "outputs": [],
   "source": [
    "#stores the result as a list of tuples with doument index and its corresponding similarity measure\n",
    "result_jaccard = mapreduce_allpair_jaccard(all_pair_doc_list)"
   ]
  },
  {
   "cell_type": "code",
   "execution_count": null,
   "id": "112c22df",
   "metadata": {
    "colab": {
     "base_uri": "https://localhost:8080/"
    },
    "execution": {
     "iopub.execute_input": "2022-01-14T04:15:07.988436Z",
     "iopub.status.busy": "2022-01-14T04:15:07.987751Z",
     "iopub.status.idle": "2022-01-14T04:15:07.993596Z",
     "shell.execute_reply": "2022-01-14T04:15:07.993063Z",
     "shell.execute_reply.started": "2021-12-13T17:06:56.713962Z"
    },
    "id": "112c22df",
    "outputId": "747a332d-1140-4d21-a6c3-2980bad9cd32",
    "papermill": {
     "duration": 0.103817,
     "end_time": "2022-01-14T04:15:07.993750",
     "exception": false,
     "start_time": "2022-01-14T04:15:07.889933",
     "status": "completed"
    },
    "tags": []
   },
   "outputs": [],
   "source": [
    "print(result_jaccard)"
   ]
  },
  {
   "cell_type": "code",
   "execution_count": null,
   "id": "2700fc9f",
   "metadata": {
    "execution": {
     "iopub.execute_input": "2022-01-14T04:15:08.242945Z",
     "iopub.status.busy": "2022-01-14T04:15:08.206618Z",
     "iopub.status.idle": "2022-01-14T04:15:08.324089Z",
     "shell.execute_reply": "2022-01-14T04:15:08.323412Z",
     "shell.execute_reply.started": "2021-12-13T17:06:56.72271Z"
    },
    "id": "2700fc9f",
    "papermill": {
     "duration": 0.235197,
     "end_time": "2022-01-14T04:15:08.324252",
     "exception": false,
     "start_time": "2022-01-14T04:15:08.089055",
     "status": "completed"
    },
    "tags": []
   },
   "outputs": [],
   "source": [
    "jaccard_values =all_pair_comparison(all_pair_doc_list,method='jaccard')\n",
    "document_index = [i[0] for i in result_jaccard]\n",
    "jaccard_similarity_mr = [i[1] for i in result_jaccard]\n"
   ]
  },
  {
   "cell_type": "code",
   "execution_count": null,
   "id": "136e794b",
   "metadata": {
    "colab": {
     "base_uri": "https://localhost:8080/",
     "height": 424
    },
    "execution": {
     "iopub.execute_input": "2022-01-14T04:15:08.521832Z",
     "iopub.status.busy": "2022-01-14T04:15:08.521098Z",
     "iopub.status.idle": "2022-01-14T04:15:08.540612Z",
     "shell.execute_reply": "2022-01-14T04:15:08.539899Z",
     "shell.execute_reply.started": "2021-12-13T17:06:56.882971Z"
    },
    "id": "136e794b",
    "outputId": "03a9d589-25fb-4f5f-ecc6-55d10b0c49ac",
    "papermill": {
     "duration": 0.122224,
     "end_time": "2022-01-14T04:15:08.540764",
     "exception": false,
     "start_time": "2022-01-14T04:15:08.418540",
     "status": "completed"
    },
    "tags": []
   },
   "outputs": [],
   "source": [
    "data = {'document index': document_index, 'jaccard similarity using mapreduce': jaccard_similarity_mr, 'jaccard similarity without mapreduce': jaccard_values }\n",
    "df_jacc = pd.DataFrame(data)\n",
    "df_jacc"
   ]
  },
  {
   "cell_type": "markdown",
   "id": "8971c21d",
   "metadata": {
    "id": "8971c21d",
    "papermill": {
     "duration": 0.098922,
     "end_time": "2022-01-14T04:15:08.736407",
     "exception": false,
     "start_time": "2022-01-14T04:15:08.637485",
     "status": "completed"
    },
    "tags": []
   },
   "source": [
    "by comparing we can see that jaccard similarity using mapreduce would give the same results as jaccard similarity without using mapreduce. hence, we can say that the Map Reduce implementation for jaccards similarity is correct."
   ]
  },
  {
   "cell_type": "markdown",
   "id": "200aff46",
   "metadata": {},
   "source": [
    "## Q 5.2) All pair similarity using cosine similarity using parallel processing"
   ]
  },
  {
   "cell_type": "code",
   "execution_count": null,
   "id": "755426b1",
   "metadata": {
    "execution": {
     "iopub.execute_input": "2022-01-14T04:15:08.935005Z",
     "iopub.status.busy": "2022-01-14T04:15:08.934216Z",
     "iopub.status.idle": "2022-01-14T04:15:08.937590Z",
     "shell.execute_reply": "2022-01-14T04:15:08.936927Z",
     "shell.execute_reply.started": "2021-12-13T17:06:56.909576Z"
    },
    "id": "755426b1",
    "papermill": {
     "duration": 0.104985,
     "end_time": "2022-01-14T04:15:08.937775",
     "exception": false,
     "start_time": "2022-01-14T04:15:08.832790",
     "status": "completed"
    },
    "tags": []
   },
   "outputs": [],
   "source": [
    "#defining mapper function for cosine similarity \n",
    "def Mapper_all_pair_cosine(doc_):\n",
    "  list_output = []\n",
    "  (i,j,doc_i,doc_j) = doc_\n",
    "  \n",
    "\n",
    "  similarity_ = cosinesim_sparse(doc_i,doc_j)\n",
    "  list_output.append(((i,j),similarity_))\n",
    "  return list_output"
   ]
  },
  {
   "cell_type": "code",
   "execution_count": null,
   "id": "55b57983",
   "metadata": {
    "execution": {
     "iopub.execute_input": "2022-01-14T04:15:09.140786Z",
     "iopub.status.busy": "2022-01-14T04:15:09.139958Z",
     "iopub.status.idle": "2022-01-14T04:15:09.142575Z",
     "shell.execute_reply": "2022-01-14T04:15:09.141892Z",
     "shell.execute_reply.started": "2021-12-13T17:06:56.915777Z"
    },
    "id": "55b57983",
    "papermill": {
     "duration": 0.107536,
     "end_time": "2022-01-14T04:15:09.142762",
     "exception": false,
     "start_time": "2022-01-14T04:15:09.035226",
     "status": "completed"
    },
    "tags": []
   },
   "outputs": [],
   "source": [
    "#defining the main mapreduce function to be called for computing cosine similarity\n",
    "def mapreduce_allpair_cosine (all_pair_docc_list):\n",
    "  mapper_iterator = []\n",
    "  for i in range(len(all_pair_docc_list)):\n",
    "    for j in range (len(all_pair_docc_list)):\n",
    "      mapper_iterator.append((i,j,all_pair_docc_list[i],all_pair_docc_list[j]))\n",
    "\n",
    "  return map_reduce_parallel(mapper_iterator,Mapper_all_pair_cosine,reducer_all_pair)"
   ]
  },
  {
   "cell_type": "code",
   "execution_count": null,
   "id": "34196f08",
   "metadata": {
    "execution": {
     "iopub.execute_input": "2022-01-14T04:15:09.343428Z",
     "iopub.status.busy": "2022-01-14T04:15:09.342395Z",
     "iopub.status.idle": "2022-01-14T04:15:09.637757Z",
     "shell.execute_reply": "2022-01-14T04:15:09.638325Z",
     "shell.execute_reply.started": "2021-12-13T17:06:56.928827Z"
    },
    "id": "34196f08",
    "papermill": {
     "duration": 0.396687,
     "end_time": "2022-01-14T04:15:09.638508",
     "exception": false,
     "start_time": "2022-01-14T04:15:09.241821",
     "status": "completed"
    },
    "tags": []
   },
   "outputs": [],
   "source": [
    "#stores result as a list of tuples with doument index and corresponding similarity measure\n",
    "result_cosine = mapreduce_allpair_cosine(all_pair_doc_list)"
   ]
  },
  {
   "cell_type": "code",
   "execution_count": null,
   "id": "82ad3e9e",
   "metadata": {
    "colab": {
     "base_uri": "https://localhost:8080/"
    },
    "execution": {
     "iopub.execute_input": "2022-01-14T04:15:09.847162Z",
     "iopub.status.busy": "2022-01-14T04:15:09.846113Z",
     "iopub.status.idle": "2022-01-14T04:15:09.850234Z",
     "shell.execute_reply": "2022-01-14T04:15:09.850795Z",
     "shell.execute_reply.started": "2021-12-13T17:06:57.172738Z"
    },
    "id": "82ad3e9e",
    "outputId": "4e1b091e-07ce-4c59-d8ef-468ddfc06c5d",
    "papermill": {
     "duration": 0.110456,
     "end_time": "2022-01-14T04:15:09.851005",
     "exception": false,
     "start_time": "2022-01-14T04:15:09.740549",
     "status": "completed"
    },
    "tags": []
   },
   "outputs": [],
   "source": [
    "print(result_cosine) "
   ]
  },
  {
   "cell_type": "code",
   "execution_count": null,
   "id": "e1398b40",
   "metadata": {
    "execution": {
     "iopub.execute_input": "2022-01-14T04:15:10.096783Z",
     "iopub.status.busy": "2022-01-14T04:15:10.086098Z",
     "iopub.status.idle": "2022-01-14T04:15:10.283604Z",
     "shell.execute_reply": "2022-01-14T04:15:10.282971Z",
     "shell.execute_reply.started": "2021-12-13T17:06:57.18053Z"
    },
    "id": "e1398b40",
    "papermill": {
     "duration": 0.334576,
     "end_time": "2022-01-14T04:15:10.283765",
     "exception": false,
     "start_time": "2022-01-14T04:15:09.949189",
     "status": "completed"
    },
    "tags": []
   },
   "outputs": [],
   "source": [
    "cosine_values =all_pair_comparison(all_pair_doc_list,method='cosine_sparse')\n",
    "document_index = [i[0] for i in result_cosine]\n",
    "cosine_similarity_mr = [i[1] for i in result_cosine]\n"
   ]
  },
  {
   "cell_type": "code",
   "execution_count": null,
   "id": "8c3ac83e",
   "metadata": {
    "colab": {
     "base_uri": "https://localhost:8080/",
     "height": 424
    },
    "execution": {
     "iopub.execute_input": "2022-01-14T04:15:10.501897Z",
     "iopub.status.busy": "2022-01-14T04:15:10.501101Z",
     "iopub.status.idle": "2022-01-14T04:15:10.505716Z",
     "shell.execute_reply": "2022-01-14T04:15:10.505124Z",
     "shell.execute_reply.started": "2021-12-13T17:06:57.407661Z"
    },
    "id": "8c3ac83e",
    "outputId": "2d67edba-ead1-4c3f-d827-5143561071f3",
    "papermill": {
     "duration": 0.125724,
     "end_time": "2022-01-14T04:15:10.505876",
     "exception": false,
     "start_time": "2022-01-14T04:15:10.380152",
     "status": "completed"
    },
    "tags": []
   },
   "outputs": [],
   "source": [
    "data = {'document index': document_index, 'cosine similarity using mapreduce': cosine_similarity_mr, 'cosine similarity without mapreduce': cosine_values }\n",
    "df_cos = pd.DataFrame(data)\n",
    "df_cos"
   ]
  },
  {
   "cell_type": "code",
   "execution_count": null,
   "id": "744fe19e",
   "metadata": {
    "colab": {
     "base_uri": "https://localhost:8080/"
    },
    "execution": {
     "iopub.execute_input": "2022-01-14T04:15:10.733320Z",
     "iopub.status.busy": "2022-01-14T04:15:10.716198Z",
     "iopub.status.idle": "2022-01-14T04:15:10.809317Z",
     "shell.execute_reply": "2022-01-14T04:15:10.809889Z",
     "shell.execute_reply.started": "2021-12-13T17:06:57.430504Z"
    },
    "id": "744fe19e",
    "outputId": "9eebda05-6d77-4a52-acca-01e78e321c69",
    "papermill": {
     "duration": 0.205341,
     "end_time": "2022-01-14T04:15:10.810092",
     "exception": false,
     "start_time": "2022-01-14T04:15:10.604751",
     "status": "completed"
    },
    "tags": []
   },
   "outputs": [],
   "source": [
    "#creates list of 100 dictionaries with bag size of 100\n",
    "all_pair_doc_list_100 = doc_creation(100,100)\n",
    "all_pair_doc_list_100[0]"
   ]
  },
  {
   "cell_type": "code",
   "execution_count": null,
   "id": "545863ec",
   "metadata": {
    "colab": {
     "base_uri": "https://localhost:8080/"
    },
    "execution": {
     "iopub.execute_input": "2022-01-14T04:15:11.013212Z",
     "iopub.status.busy": "2022-01-14T04:15:11.012484Z",
     "iopub.status.idle": "2022-01-14T04:15:22.643782Z",
     "shell.execute_reply": "2022-01-14T04:15:22.644537Z",
     "shell.execute_reply.started": "2021-12-13T17:09:44.05741Z"
    },
    "id": "545863ec",
    "outputId": "ecf4423f-f8a2-43fa-c195-16121018f751",
    "papermill": {
     "duration": 11.737626,
     "end_time": "2022-01-14T04:15:22.644768",
     "exception": false,
     "start_time": "2022-01-14T04:15:10.907142",
     "status": "completed"
    },
    "tags": []
   },
   "outputs": [],
   "source": [
    "#the average time taken to run the all pair similarity using MapReduce is found out\n",
    "\n",
    "a=time_it(mapreduce_allpair_jaccard,all_pair_doc_list_100,number_of_repeats=5)\n",
    "b=time_it(mapreduce_allpair_cosine,all_pair_doc_list_100,number_of_repeats=5)\n",
    "print('The average time taken to find all pair similarity of 100 documents with bagsize of 100: \\n {} seconds using jaccard \\n {} seconds using cosine'.format(a,b))"
   ]
  },
  {
   "cell_type": "markdown",
   "id": "a108220d",
   "metadata": {
    "id": "a108220d",
    "papermill": {
     "duration": 0.096458,
     "end_time": "2022-01-14T04:15:22.844970",
     "exception": false,
     "start_time": "2022-01-14T04:15:22.748512",
     "status": "completed"
    },
    "tags": []
   },
   "source": [
    "\n",
    "The run time for the cosine all pair similarity for 100 documents is greater without using map reduce functions.\n",
    "When we increase the number of documents, map reduce paradigm of cosine all pair similarity would give better runtime and efficiency than the normal method."
   ]
  },
  {
   "cell_type": "markdown",
   "id": "4dead95f",
   "metadata": {
    "id": "4dead95f",
    "papermill": {
     "duration": 0.095599,
     "end_time": "2022-01-14T04:15:23.041793",
     "exception": false,
     "start_time": "2022-01-14T04:15:22.946194",
     "status": "completed"
    },
    "tags": []
   },
   "source": [
    "# Summary\n",
    "\n",
    "This report contained the analysis of time complexities for Jaccards and different implementations of cosine similarities.\n",
    "The analysis was done theoretically and empericaly to compare if both were in terms with each other.\n",
    "\n",
    "From my analysis on Jaccards similarity algorithm, When i ran the algorithm i was able to emperically find the time complexity to be approximately $\\longrightarrow O(n^.98)$\n",
    "which is better than the observed theoretical time complexity.\n",
    "\n",
    "I performed similar analysis on the different implementations of cosine similarity and i found the time complexities as $ 𝑂(𝑛^{0.95}) $, $𝑂(𝑛^{0.11})$ and $𝑂(𝑛^{0.89}) $.\n",
    "\n",
    "I found that the cosine similarity using vector numpy array has the least time complexity $O(1)$ and other similarities are of the time complexity $O(n)$. This means that cosine similarity using numpy array is the most efficient.\n",
    "\n",
    "The cosine similarity using vector iteration is very time consuming compared to other methods even though other methods (except cosine using numpy) also has time complexity of $O(n)$.\n",
    "\n",
    "I have created function to calculate all pair similarity with parameter specifying similarity measure. I theoretically and emperically found the time complexities for jaccard's and cosine similarity meausres.\n",
    "\n",
    "Finally a map reduce paradigm is implemented for implementing parallel processing. The parallel processing was done on google collab notebook, since multiprocessing on windows with interactive python wont work as expected."
   ]
  }
 ],
 "metadata": {
  "colab": {
   "provenance": []
  },
  "kernelspec": {
   "display_name": "Python 3 (ipykernel)",
   "language": "python",
   "name": "python3"
  },
  "language_info": {
   "codemirror_mode": {
    "name": "ipython",
    "version": 3
   },
   "file_extension": ".py",
   "mimetype": "text/x-python",
   "name": "python",
   "nbconvert_exporter": "python",
   "pygments_lexer": "ipython3",
   "version": "3.9.12"
  },
  "papermill": {
   "default_parameters": {},
   "duration": 606.587457,
   "end_time": "2022-01-14T04:15:24.342958",
   "environment_variables": {},
   "exception": null,
   "input_path": "__notebook__.ipynb",
   "output_path": "__notebook__.ipynb",
   "parameters": {},
   "start_time": "2022-01-14T04:05:17.755501",
   "version": "2.3.3"
  }
 },
 "nbformat": 4,
 "nbformat_minor": 5
}
